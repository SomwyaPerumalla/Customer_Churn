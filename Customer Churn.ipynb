{
 "cells": [
  {
   "cell_type": "code",
   "execution_count": 1,
   "id": "42300301",
   "metadata": {},
   "outputs": [],
   "source": [
    "import pandas as pd\n",
    "import numpy as np\n",
    "import matplotlib.pyplot as plt\n",
    "import warnings\n",
    "warnings.filterwarnings('ignore')\n",
    "from sklearn.linear_model import LinearRegression\n",
    "import sklearn.metrics as sm\n",
    "import seaborn as sns\n",
    "import statsmodels.api as sms\n",
    "from scipy import stats\n",
    "from sklearn.preprocessing import MinMaxScaler\n",
    "from sklearn.impute import SimpleImputer\n",
    "from sklearn.model_selection import train_test_split\n",
    "from sklearn.metrics import confusion_matrix, accuracy_score\n",
    "from sklearn.linear_model import LogisticRegression\n",
    "from sklearn.neighbors import KNeighborsClassifier\n",
    "\n",
    "# import plotly.express as px"
   ]
  },
  {
   "cell_type": "code",
   "execution_count": 2,
   "id": "d3cbba1e",
   "metadata": {},
   "outputs": [],
   "source": [
    "df = pd.read_csv(\"Group 2 (2).csv\")"
   ]
  },
  {
   "cell_type": "code",
   "execution_count": 3,
   "id": "cecc3e8b",
   "metadata": {},
   "outputs": [],
   "source": [
    "del df[df.columns[0]]"
   ]
  },
  {
   "cell_type": "code",
   "execution_count": 4,
   "id": "4d8c716f",
   "metadata": {},
   "outputs": [
    {
     "data": {
      "text/plain": [
       "(7350, 11)"
      ]
     },
     "execution_count": 4,
     "metadata": {},
     "output_type": "execute_result"
    }
   ],
   "source": [
    "df.shape"
   ]
  },
  {
   "cell_type": "code",
   "execution_count": 5,
   "id": "08e97d95",
   "metadata": {},
   "outputs": [
    {
     "name": "stdout",
     "output_type": "stream",
     "text": [
      "<class 'pandas.core.frame.DataFrame'>\n",
      "RangeIndex: 7350 entries, 0 to 7349\n",
      "Data columns (total 11 columns):\n",
      " #   Column        Non-Null Count  Dtype  \n",
      "---  ------        --------------  -----  \n",
      " 0   customer_id   7350 non-null   object \n",
      " 1   gender        7350 non-null   object \n",
      " 2   location      7350 non-null   object \n",
      " 3   partner       7350 non-null   int64  \n",
      " 4   dependents    7350 non-null   object \n",
      " 5   senior        7350 non-null   int64  \n",
      " 6   Tenure        7350 non-null   float64\n",
      " 7   monthly_cost  67 non-null     object \n",
      " 8   package       7350 non-null   int64  \n",
      " 9   survey        7350 non-null   object \n",
      " 10  Class         7301 non-null   object \n",
      "dtypes: float64(1), int64(3), object(7)\n",
      "memory usage: 631.8+ KB\n",
      "None\n"
     ]
    }
   ],
   "source": [
    "print(df.info())"
   ]
  },
  {
   "cell_type": "code",
   "execution_count": 6,
   "id": "4bbd9696",
   "metadata": {
    "scrolled": true
   },
   "outputs": [
    {
     "data": {
      "text/html": [
       "<div>\n",
       "<style scoped>\n",
       "    .dataframe tbody tr th:only-of-type {\n",
       "        vertical-align: middle;\n",
       "    }\n",
       "\n",
       "    .dataframe tbody tr th {\n",
       "        vertical-align: top;\n",
       "    }\n",
       "\n",
       "    .dataframe thead th {\n",
       "        text-align: right;\n",
       "    }\n",
       "</style>\n",
       "<table border=\"1\" class=\"dataframe\">\n",
       "  <thead>\n",
       "    <tr style=\"text-align: right;\">\n",
       "      <th></th>\n",
       "      <th>customer_id</th>\n",
       "      <th>gender</th>\n",
       "      <th>location</th>\n",
       "      <th>partner</th>\n",
       "      <th>dependents</th>\n",
       "      <th>senior</th>\n",
       "      <th>Tenure</th>\n",
       "      <th>monthly_cost</th>\n",
       "      <th>package</th>\n",
       "      <th>survey</th>\n",
       "      <th>Class</th>\n",
       "    </tr>\n",
       "  </thead>\n",
       "  <tbody>\n",
       "    <tr>\n",
       "      <th>0</th>\n",
       "      <td>K3713</td>\n",
       "      <td>Male</td>\n",
       "      <td>Hampshire</td>\n",
       "      <td>0</td>\n",
       "      <td>Unknown</td>\n",
       "      <td>0</td>\n",
       "      <td>12.0</td>\n",
       "      <td>NaN</td>\n",
       "      <td>1</td>\n",
       "      <td>6</td>\n",
       "      <td>Churn=No</td>\n",
       "    </tr>\n",
       "    <tr>\n",
       "      <th>1</th>\n",
       "      <td>D9048</td>\n",
       "      <td>Male</td>\n",
       "      <td>Greater Manchester</td>\n",
       "      <td>1</td>\n",
       "      <td>1</td>\n",
       "      <td>0</td>\n",
       "      <td>21.0</td>\n",
       "      <td>NaN</td>\n",
       "      <td>4</td>\n",
       "      <td>6</td>\n",
       "      <td>Churn=No</td>\n",
       "    </tr>\n",
       "    <tr>\n",
       "      <th>2</th>\n",
       "      <td>K8227</td>\n",
       "      <td>Female</td>\n",
       "      <td>West Yorkshire</td>\n",
       "      <td>0</td>\n",
       "      <td>Unknown</td>\n",
       "      <td>0</td>\n",
       "      <td>0.0</td>\n",
       "      <td>NaN</td>\n",
       "      <td>1</td>\n",
       "      <td>4</td>\n",
       "      <td>Churn=Yes</td>\n",
       "    </tr>\n",
       "    <tr>\n",
       "      <th>3</th>\n",
       "      <td>H3533</td>\n",
       "      <td>Male</td>\n",
       "      <td>Greater London</td>\n",
       "      <td>1</td>\n",
       "      <td>1</td>\n",
       "      <td>1</td>\n",
       "      <td>11.0</td>\n",
       "      <td>NaN</td>\n",
       "      <td>2</td>\n",
       "      <td>4</td>\n",
       "      <td>Churn=No</td>\n",
       "    </tr>\n",
       "    <tr>\n",
       "      <th>4</th>\n",
       "      <td>J4501</td>\n",
       "      <td>Male</td>\n",
       "      <td>Greater London</td>\n",
       "      <td>0</td>\n",
       "      <td>0</td>\n",
       "      <td>0</td>\n",
       "      <td>7.0</td>\n",
       "      <td>NaN</td>\n",
       "      <td>4</td>\n",
       "      <td>2</td>\n",
       "      <td>Churn=Yes</td>\n",
       "    </tr>\n",
       "  </tbody>\n",
       "</table>\n",
       "</div>"
      ],
      "text/plain": [
       "  customer_id  gender            location  partner dependents  senior  Tenure  \\\n",
       "0       K3713    Male           Hampshire        0    Unknown       0    12.0   \n",
       "1       D9048    Male  Greater Manchester        1          1       0    21.0   \n",
       "2       K8227  Female      West Yorkshire        0    Unknown       0     0.0   \n",
       "3       H3533    Male      Greater London        1          1       1    11.0   \n",
       "4       J4501    Male      Greater London        0          0       0     7.0   \n",
       "\n",
       "  monthly_cost  package survey      Class  \n",
       "0          NaN        1      6   Churn=No  \n",
       "1          NaN        4      6   Churn=No  \n",
       "2          NaN        1      4  Churn=Yes  \n",
       "3          NaN        2      4   Churn=No  \n",
       "4          NaN        4      2  Churn=Yes  "
      ]
     },
     "execution_count": 6,
     "metadata": {},
     "output_type": "execute_result"
    }
   ],
   "source": [
    "df.head()"
   ]
  },
  {
   "cell_type": "code",
   "execution_count": 7,
   "id": "7a627195",
   "metadata": {},
   "outputs": [
    {
     "name": "stdout",
     "output_type": "stream",
     "text": [
      "customer_id        0\n",
      "gender             0\n",
      "location           0\n",
      "partner            0\n",
      "dependents         0\n",
      "senior             0\n",
      "Tenure             0\n",
      "monthly_cost    7283\n",
      "package            0\n",
      "survey             0\n",
      "Class             49\n",
      "dtype: int64\n"
     ]
    }
   ],
   "source": [
    "print(df.isnull().sum())"
   ]
  },
  {
   "cell_type": "code",
   "execution_count": 8,
   "id": "8a648a37",
   "metadata": {},
   "outputs": [
    {
     "data": {
      "text/plain": [
       "(6752, 11)"
      ]
     },
     "execution_count": 8,
     "metadata": {},
     "output_type": "execute_result"
    }
   ],
   "source": [
    "duplicateRowsDF = df[df['customer_id'].duplicated()]\n",
    "duplicateRowsDF\n",
    "df = df.drop_duplicates(subset=[\"customer_id\"], keep='first')\n",
    "df.shape"
   ]
  },
  {
   "cell_type": "code",
   "execution_count": 9,
   "id": "8a752e87",
   "metadata": {},
   "outputs": [
    {
     "data": {
      "text/plain": [
       "(6752, 11)"
      ]
     },
     "execution_count": 9,
     "metadata": {},
     "output_type": "execute_result"
    }
   ],
   "source": [
    "df.shape"
   ]
  },
  {
   "cell_type": "code",
   "execution_count": 10,
   "id": "fa9d6a37",
   "metadata": {
    "scrolled": true
   },
   "outputs": [
    {
     "data": {
      "text/plain": [
       "customer_id      object\n",
       "gender           object\n",
       "location         object\n",
       "partner           int64\n",
       "dependents       object\n",
       "senior            int64\n",
       "Tenure          float64\n",
       "monthly_cost     object\n",
       "package           int64\n",
       "survey           object\n",
       "Class            object\n",
       "dtype: object"
      ]
     },
     "execution_count": 10,
     "metadata": {},
     "output_type": "execute_result"
    }
   ],
   "source": [
    "df.dtypes"
   ]
  },
  {
   "cell_type": "code",
   "execution_count": 11,
   "id": "92df0a2f",
   "metadata": {
    "scrolled": true
   },
   "outputs": [
    {
     "data": {
      "text/html": [
       "<div>\n",
       "<style scoped>\n",
       "    .dataframe tbody tr th:only-of-type {\n",
       "        vertical-align: middle;\n",
       "    }\n",
       "\n",
       "    .dataframe tbody tr th {\n",
       "        vertical-align: top;\n",
       "    }\n",
       "\n",
       "    .dataframe thead th {\n",
       "        text-align: right;\n",
       "    }\n",
       "</style>\n",
       "<table border=\"1\" class=\"dataframe\">\n",
       "  <thead>\n",
       "    <tr style=\"text-align: right;\">\n",
       "      <th></th>\n",
       "      <th>partner</th>\n",
       "      <th>senior</th>\n",
       "      <th>Tenure</th>\n",
       "      <th>package</th>\n",
       "    </tr>\n",
       "  </thead>\n",
       "  <tbody>\n",
       "    <tr>\n",
       "      <th>count</th>\n",
       "      <td>6752.000000</td>\n",
       "      <td>6752.000000</td>\n",
       "      <td>6752.000000</td>\n",
       "      <td>6752.000000</td>\n",
       "    </tr>\n",
       "    <tr>\n",
       "      <th>mean</th>\n",
       "      <td>0.547393</td>\n",
       "      <td>0.173134</td>\n",
       "      <td>8.722439</td>\n",
       "      <td>2.427725</td>\n",
       "    </tr>\n",
       "    <tr>\n",
       "      <th>std</th>\n",
       "      <td>0.497786</td>\n",
       "      <td>0.378391</td>\n",
       "      <td>6.408113</td>\n",
       "      <td>1.152222</td>\n",
       "    </tr>\n",
       "    <tr>\n",
       "      <th>min</th>\n",
       "      <td>0.000000</td>\n",
       "      <td>0.000000</td>\n",
       "      <td>-4.690416</td>\n",
       "      <td>1.000000</td>\n",
       "    </tr>\n",
       "    <tr>\n",
       "      <th>25%</th>\n",
       "      <td>0.000000</td>\n",
       "      <td>0.000000</td>\n",
       "      <td>3.000000</td>\n",
       "      <td>1.000000</td>\n",
       "    </tr>\n",
       "    <tr>\n",
       "      <th>50%</th>\n",
       "      <td>1.000000</td>\n",
       "      <td>0.000000</td>\n",
       "      <td>8.000000</td>\n",
       "      <td>2.000000</td>\n",
       "    </tr>\n",
       "    <tr>\n",
       "      <th>75%</th>\n",
       "      <td>1.000000</td>\n",
       "      <td>0.000000</td>\n",
       "      <td>14.000000</td>\n",
       "      <td>4.000000</td>\n",
       "    </tr>\n",
       "    <tr>\n",
       "      <th>max</th>\n",
       "      <td>1.000000</td>\n",
       "      <td>1.000000</td>\n",
       "      <td>30.000000</td>\n",
       "      <td>4.000000</td>\n",
       "    </tr>\n",
       "  </tbody>\n",
       "</table>\n",
       "</div>"
      ],
      "text/plain": [
       "           partner       senior       Tenure      package\n",
       "count  6752.000000  6752.000000  6752.000000  6752.000000\n",
       "mean      0.547393     0.173134     8.722439     2.427725\n",
       "std       0.497786     0.378391     6.408113     1.152222\n",
       "min       0.000000     0.000000    -4.690416     1.000000\n",
       "25%       0.000000     0.000000     3.000000     1.000000\n",
       "50%       1.000000     0.000000     8.000000     2.000000\n",
       "75%       1.000000     0.000000    14.000000     4.000000\n",
       "max       1.000000     1.000000    30.000000     4.000000"
      ]
     },
     "execution_count": 11,
     "metadata": {},
     "output_type": "execute_result"
    }
   ],
   "source": [
    "df.describe()"
   ]
  },
  {
   "cell_type": "code",
   "execution_count": 12,
   "id": "30ec3072",
   "metadata": {},
   "outputs": [],
   "source": [
    "df['monthly_cost'][df.package==1]=26\n",
    "df['monthly_cost'][df.package==2]=34\n",
    "df['monthly_cost'][df.package==3]=40\n",
    "df['monthly_cost'][df.package==4]=47"
   ]
  },
  {
   "cell_type": "code",
   "execution_count": 13,
   "id": "d4c771dd",
   "metadata": {},
   "outputs": [
    {
     "data": {
      "text/html": [
       "<div>\n",
       "<style scoped>\n",
       "    .dataframe tbody tr th:only-of-type {\n",
       "        vertical-align: middle;\n",
       "    }\n",
       "\n",
       "    .dataframe tbody tr th {\n",
       "        vertical-align: top;\n",
       "    }\n",
       "\n",
       "    .dataframe thead th {\n",
       "        text-align: right;\n",
       "    }\n",
       "</style>\n",
       "<table border=\"1\" class=\"dataframe\">\n",
       "  <thead>\n",
       "    <tr style=\"text-align: right;\">\n",
       "      <th></th>\n",
       "      <th>customer_id</th>\n",
       "      <th>gender</th>\n",
       "      <th>location</th>\n",
       "      <th>partner</th>\n",
       "      <th>dependents</th>\n",
       "      <th>senior</th>\n",
       "      <th>Tenure</th>\n",
       "      <th>monthly_cost</th>\n",
       "      <th>package</th>\n",
       "      <th>survey</th>\n",
       "      <th>Class</th>\n",
       "    </tr>\n",
       "  </thead>\n",
       "  <tbody>\n",
       "    <tr>\n",
       "      <th>0</th>\n",
       "      <td>K3713</td>\n",
       "      <td>Male</td>\n",
       "      <td>Hampshire</td>\n",
       "      <td>0</td>\n",
       "      <td>Unknown</td>\n",
       "      <td>0</td>\n",
       "      <td>12.0</td>\n",
       "      <td>26</td>\n",
       "      <td>1</td>\n",
       "      <td>6</td>\n",
       "      <td>Churn=No</td>\n",
       "    </tr>\n",
       "    <tr>\n",
       "      <th>1</th>\n",
       "      <td>D9048</td>\n",
       "      <td>Male</td>\n",
       "      <td>Greater Manchester</td>\n",
       "      <td>1</td>\n",
       "      <td>1</td>\n",
       "      <td>0</td>\n",
       "      <td>21.0</td>\n",
       "      <td>47</td>\n",
       "      <td>4</td>\n",
       "      <td>6</td>\n",
       "      <td>Churn=No</td>\n",
       "    </tr>\n",
       "    <tr>\n",
       "      <th>2</th>\n",
       "      <td>K8227</td>\n",
       "      <td>Female</td>\n",
       "      <td>West Yorkshire</td>\n",
       "      <td>0</td>\n",
       "      <td>Unknown</td>\n",
       "      <td>0</td>\n",
       "      <td>0.0</td>\n",
       "      <td>26</td>\n",
       "      <td>1</td>\n",
       "      <td>4</td>\n",
       "      <td>Churn=Yes</td>\n",
       "    </tr>\n",
       "    <tr>\n",
       "      <th>3</th>\n",
       "      <td>H3533</td>\n",
       "      <td>Male</td>\n",
       "      <td>Greater London</td>\n",
       "      <td>1</td>\n",
       "      <td>1</td>\n",
       "      <td>1</td>\n",
       "      <td>11.0</td>\n",
       "      <td>34</td>\n",
       "      <td>2</td>\n",
       "      <td>4</td>\n",
       "      <td>Churn=No</td>\n",
       "    </tr>\n",
       "    <tr>\n",
       "      <th>4</th>\n",
       "      <td>J4501</td>\n",
       "      <td>Male</td>\n",
       "      <td>Greater London</td>\n",
       "      <td>0</td>\n",
       "      <td>0</td>\n",
       "      <td>0</td>\n",
       "      <td>7.0</td>\n",
       "      <td>47</td>\n",
       "      <td>4</td>\n",
       "      <td>2</td>\n",
       "      <td>Churn=Yes</td>\n",
       "    </tr>\n",
       "  </tbody>\n",
       "</table>\n",
       "</div>"
      ],
      "text/plain": [
       "  customer_id  gender            location  partner dependents  senior  Tenure  \\\n",
       "0       K3713    Male           Hampshire        0    Unknown       0    12.0   \n",
       "1       D9048    Male  Greater Manchester        1          1       0    21.0   \n",
       "2       K8227  Female      West Yorkshire        0    Unknown       0     0.0   \n",
       "3       H3533    Male      Greater London        1          1       1    11.0   \n",
       "4       J4501    Male      Greater London        0          0       0     7.0   \n",
       "\n",
       "  monthly_cost  package survey      Class  \n",
       "0           26        1      6   Churn=No  \n",
       "1           47        4      6   Churn=No  \n",
       "2           26        1      4  Churn=Yes  \n",
       "3           34        2      4   Churn=No  \n",
       "4           47        4      2  Churn=Yes  "
      ]
     },
     "execution_count": 13,
     "metadata": {},
     "output_type": "execute_result"
    }
   ],
   "source": [
    "df.head()"
   ]
  },
  {
   "cell_type": "code",
   "execution_count": 14,
   "id": "c02ec6c7",
   "metadata": {},
   "outputs": [],
   "source": [
    "df = df.dropna()"
   ]
  },
  {
   "cell_type": "code",
   "execution_count": 15,
   "id": "6a427f55",
   "metadata": {
    "scrolled": true
   },
   "outputs": [
    {
     "data": {
      "text/plain": [
       "(6704, 11)"
      ]
     },
     "execution_count": 15,
     "metadata": {},
     "output_type": "execute_result"
    }
   ],
   "source": [
    "df.shape"
   ]
  },
  {
   "cell_type": "code",
   "execution_count": 16,
   "id": "667a0a33",
   "metadata": {
    "scrolled": true
   },
   "outputs": [
    {
     "name": "stdout",
     "output_type": "stream",
     "text": [
      "Churn=No     4778\n",
      "Churn=Yes    1911\n",
      "Y$e$s$$        15\n",
      "Name: Class, dtype: int64\n"
     ]
    }
   ],
   "source": [
    "print(df['Class'].value_counts())"
   ]
  },
  {
   "cell_type": "code",
   "execution_count": 17,
   "id": "d878ecca",
   "metadata": {},
   "outputs": [],
   "source": [
    "df['monthly_cost']=df['monthly_cost'].astype(int)"
   ]
  },
  {
   "cell_type": "code",
   "execution_count": 18,
   "id": "0b09fdb7",
   "metadata": {
    "scrolled": true
   },
   "outputs": [
    {
     "data": {
      "text/plain": [
       "(6704, 11)"
      ]
     },
     "execution_count": 18,
     "metadata": {},
     "output_type": "execute_result"
    }
   ],
   "source": [
    "df.shape"
   ]
  },
  {
   "cell_type": "code",
   "execution_count": 19,
   "id": "221e8037",
   "metadata": {},
   "outputs": [],
   "source": [
    "churn_numeric = {'Y$e$s$$':'Churn=Yes'}\n",
    "df.Class.replace(churn_numeric, inplace=True)"
   ]
  },
  {
   "cell_type": "code",
   "execution_count": 20,
   "id": "d56ae815",
   "metadata": {
    "scrolled": true
   },
   "outputs": [
    {
     "data": {
      "text/plain": [
       "customer_id      object\n",
       "gender           object\n",
       "location         object\n",
       "partner           int64\n",
       "dependents       object\n",
       "senior            int64\n",
       "Tenure          float64\n",
       "monthly_cost      int32\n",
       "package           int64\n",
       "survey           object\n",
       "Class            object\n",
       "dtype: object"
      ]
     },
     "execution_count": 20,
     "metadata": {},
     "output_type": "execute_result"
    }
   ],
   "source": [
    "df.dtypes"
   ]
  },
  {
   "cell_type": "code",
   "execution_count": 21,
   "id": "098c784e",
   "metadata": {},
   "outputs": [
    {
     "name": "stdout",
     "output_type": "stream",
     "text": [
      "Churn=No     4778\n",
      "Churn=Yes    1926\n",
      "Name: Class, dtype: int64\n"
     ]
    }
   ],
   "source": [
    "print(df['Class'].value_counts())"
   ]
  },
  {
   "cell_type": "code",
   "execution_count": 22,
   "id": "6aa2e6a4",
   "metadata": {},
   "outputs": [
    {
     "data": {
      "image/png": "[encoded data removed]",
      "text/plain": [
       "<Figure size 360x360 with 1 Axes>"
      ]
     },
     "metadata": {
      "needs_background": "light"
     },
     "output_type": "display_data"
    }
   ],
   "source": [
    "ax6 = sns.catplot(x=\"Class\", kind=\"count\", data=df) "
   ]
  },
  {
   "cell_type": "markdown",
   "id": "1e0a094a",
   "metadata": {},
   "source": [
    "#### Numerical data"
   ]
  },
  {
   "cell_type": "code",
   "execution_count": 23,
   "id": "4a8e9ff3",
   "metadata": {
    "scrolled": true
   },
   "outputs": [
    {
     "data": {
      "text/plain": [
       "<AxesSubplot:xlabel='Tenure', ylabel='Density'>"
      ]
     },
     "execution_count": 23,
     "metadata": {},
     "output_type": "execute_result"
    },
    {
     "data": {
      "image/png": "[encoded data removed]",
      "text/plain": [
       "<Figure size 432x288 with 1 Axes>"
      ]
     },
     "metadata": {
      "needs_background": "light"
     },
     "output_type": "display_data"
    }
   ],
   "source": [
    "sns.kdeplot(data=df, x=\"Tenure\", hue=\"Class\")"
   ]
  },
  {
   "cell_type": "code",
   "execution_count": 24,
   "id": "5ed477bb",
   "metadata": {
    "scrolled": true
   },
   "outputs": [
    {
     "data": {
      "text/plain": [
       "<AxesSubplot:xlabel='monthly_cost', ylabel='Density'>"
      ]
     },
     "execution_count": 24,
     "metadata": {},
     "output_type": "execute_result"
    },
    {
     "data": {
      "image/png": "[encoded data removed]",
      "text/plain": [
       "<Figure size 432x288 with 1 Axes>"
      ]
     },
     "metadata": {
      "needs_background": "light"
     },
     "output_type": "display_data"
    }
   ],
   "source": [
    "sns.kdeplot(data=df, x=\"monthly_cost\", hue=\"Class\")"
   ]
  },
  {
   "cell_type": "markdown",
   "id": "79e0c6c4",
   "metadata": {},
   "source": [
    "#### Gender:"
   ]
  },
  {
   "cell_type": "code",
   "execution_count": 25,
   "id": "c38acdcf",
   "metadata": {},
   "outputs": [
    {
     "name": "stdout",
     "output_type": "stream",
     "text": [
      "Male      3380\n",
      "Female    3324\n",
      "Name: gender, dtype: int64\n"
     ]
    }
   ],
   "source": [
    "print(df['gender'].value_counts())"
   ]
  },
  {
   "cell_type": "code",
   "execution_count": 26,
   "id": "db1a1b79",
   "metadata": {},
   "outputs": [
    {
     "data": {
      "text/plain": [
       "<seaborn.axisgrid.FacetGrid at 0x1eabbb20280>"
      ]
     },
     "execution_count": 26,
     "metadata": {},
     "output_type": "execute_result"
    },
    {
     "data": {
      "image/png": "[encoded data removed]",
      "text/plain": [
       "<Figure size 360x360 with 1 Axes>"
      ]
     },
     "metadata": {
      "needs_background": "light"
     },
     "output_type": "display_data"
    }
   ],
   "source": [
    "sns.catplot(x=\"gender\", kind=\"count\", data=df) "
   ]
  },
  {
   "cell_type": "code",
   "execution_count": 27,
   "id": "2b33a924",
   "metadata": {},
   "outputs": [
    {
     "data": {
      "text/plain": [
       "<seaborn.axisgrid.FacetGrid at 0x1eaba3d25e0>"
      ]
     },
     "execution_count": 27,
     "metadata": {},
     "output_type": "execute_result"
    },
    {
     "data": {
      "image/png": "[encoded data removed]",
      "text/plain": [
       "<Figure size 450.375x360 with 1 Axes>"
      ]
     },
     "metadata": {
      "needs_background": "light"
     },
     "output_type": "display_data"
    }
   ],
   "source": [
    "sns.catplot(x=\"gender\", kind=\"count\", hue=\"Class\", data=df)"
   ]
  },
  {
   "cell_type": "code",
   "execution_count": 28,
   "id": "636f229a",
   "metadata": {},
   "outputs": [
    {
     "data": {
      "text/plain": [
       "<AxesSubplot:xlabel='gender', ylabel='monthly_cost'>"
      ]
     },
     "execution_count": 28,
     "metadata": {},
     "output_type": "execute_result"
    },
    {
     "data": {
      "image/png": "[encoded data removed]",
      "text/plain": [
       "<Figure size 432x288 with 1 Axes>"
      ]
     },
     "metadata": {
      "needs_background": "light"
     },
     "output_type": "display_data"
    }
   ],
   "source": [
    "sns.violinplot(x=\"gender\", y=\"monthly_cost\",hue=\"Class\", data=df,palette=\"muted\", split=True)"
   ]
  },
  {
   "cell_type": "code",
   "execution_count": 29,
   "id": "e7d84e34",
   "metadata": {
    "scrolled": true
   },
   "outputs": [
    {
     "data": {
      "text/plain": [
       "<AxesSubplot:xlabel='gender', ylabel='Tenure'>"
      ]
     },
     "execution_count": 29,
     "metadata": {},
     "output_type": "execute_result"
    },
    {
     "data": {
      "image/png": "[encoded data removed]",
      "text/plain": [
       "<Figure size 432x288 with 1 Axes>"
      ]
     },
     "metadata": {
      "needs_background": "light"
     },
     "output_type": "display_data"
    }
   ],
   "source": [
    "sns.violinplot(x=\"gender\", y=\"Tenure\",hue=\"Class\", data=df,palette=\"muted\", split=True)"
   ]
  },
  {
   "cell_type": "markdown",
   "id": "b88cf2d8",
   "metadata": {},
   "source": [
    "#### Partner"
   ]
  },
  {
   "cell_type": "code",
   "execution_count": 30,
   "id": "efd4e41b",
   "metadata": {},
   "outputs": [
    {
     "name": "stdout",
     "output_type": "stream",
     "text": [
      "1    3667\n",
      "0    3037\n",
      "Name: partner, dtype: int64\n"
     ]
    }
   ],
   "source": [
    "print(df['partner'].value_counts())"
   ]
  },
  {
   "cell_type": "code",
   "execution_count": 31,
   "id": "ee9615de",
   "metadata": {},
   "outputs": [
    {
     "data": {
      "text/plain": [
       "<seaborn.axisgrid.FacetGrid at 0x1eabbdfe430>"
      ]
     },
     "execution_count": 31,
     "metadata": {},
     "output_type": "execute_result"
    },
    {
     "data": {
      "image/png": "[encoded data removed]",
      "text/plain": [
       "<Figure size 360x360 with 1 Axes>"
      ]
     },
     "metadata": {
      "needs_background": "light"
     },
     "output_type": "display_data"
    }
   ],
   "source": [
    "sns.catplot(x=\"partner\", kind=\"count\", data=df) "
   ]
  },
  {
   "cell_type": "code",
   "execution_count": 32,
   "id": "8f5fc186",
   "metadata": {},
   "outputs": [
    {
     "data": {
      "text/plain": [
       "<seaborn.axisgrid.FacetGrid at 0x1eabbcd57f0>"
      ]
     },
     "execution_count": 32,
     "metadata": {},
     "output_type": "execute_result"
    },
    {
     "data": {
      "image/png": "[encoded data removed]",
      "text/plain": [
       "<Figure size 450.375x360 with 1 Axes>"
      ]
     },
     "metadata": {
      "needs_background": "light"
     },
     "output_type": "display_data"
    }
   ],
   "source": [
    "sns.catplot(x=\"partner\", kind=\"count\", hue=\"Class\", data=df)"
   ]
  },
  {
   "cell_type": "code",
   "execution_count": 33,
   "id": "82aa1526",
   "metadata": {},
   "outputs": [
    {
     "data": {
      "text/plain": [
       "<AxesSubplot:xlabel='partner', ylabel='monthly_cost'>"
      ]
     },
     "execution_count": 33,
     "metadata": {},
     "output_type": "execute_result"
    },
    {
     "data": {
      "image/png": "[encoded data removed]",
      "text/plain": [
       "<Figure size 432x288 with 1 Axes>"
      ]
     },
     "metadata": {
      "needs_background": "light"
     },
     "output_type": "display_data"
    }
   ],
   "source": [
    "sns.violinplot(x=\"partner\", y=\"monthly_cost\",hue=\"Class\", data=df,palette=\"muted\", split=True)"
   ]
  },
  {
   "cell_type": "code",
   "execution_count": 34,
   "id": "001330b3",
   "metadata": {},
   "outputs": [
    {
     "data": {
      "text/plain": [
       "<AxesSubplot:xlabel='partner', ylabel='Tenure'>"
      ]
     },
     "execution_count": 34,
     "metadata": {},
     "output_type": "execute_result"
    },
    {
     "data": {
      "image/png": "[encoded data removed]",
      "text/plain": [
       "<Figure size 432x288 with 1 Axes>"
      ]
     },
     "metadata": {
      "needs_background": "light"
     },
     "output_type": "display_data"
    }
   ],
   "source": [
    "sns.violinplot(x=\"partner\", y=\"Tenure\",hue=\"Class\", data=df,palette=\"muted\", split=True)"
   ]
  },
  {
   "cell_type": "markdown",
   "id": "2c7c3890",
   "metadata": {},
   "source": [
    "#### Dependents"
   ]
  },
  {
   "cell_type": "code",
   "execution_count": 35,
   "id": "4e7ccedd",
   "metadata": {},
   "outputs": [
    {
     "name": "stdout",
     "output_type": "stream",
     "text": [
      "1          3151\n",
      "Unknown    2067\n",
      "0          1486\n",
      "Name: dependents, dtype: int64\n"
     ]
    }
   ],
   "source": [
    "print(df['dependents'].value_counts())"
   ]
  },
  {
   "cell_type": "code",
   "execution_count": 36,
   "id": "48902318",
   "metadata": {},
   "outputs": [
    {
     "data": {
      "text/plain": [
       "<seaborn.axisgrid.FacetGrid at 0x1eabbde15e0>"
      ]
     },
     "execution_count": 36,
     "metadata": {},
     "output_type": "execute_result"
    },
    {
     "data": {
      "image/png": "[encoded data removed]",
      "text/plain": [
       "<Figure size 360x360 with 1 Axes>"
      ]
     },
     "metadata": {
      "needs_background": "light"
     },
     "output_type": "display_data"
    }
   ],
   "source": [
    "sns.catplot(x=\"dependents\", kind=\"count\", data=df) "
   ]
  },
  {
   "cell_type": "code",
   "execution_count": 37,
   "id": "17347a84",
   "metadata": {},
   "outputs": [
    {
     "data": {
      "text/plain": [
       "<seaborn.axisgrid.FacetGrid at 0x1eabc085be0>"
      ]
     },
     "execution_count": 37,
     "metadata": {},
     "output_type": "execute_result"
    },
    {
     "data": {
      "image/png": "[encoded data removed]",
      "text/plain": [
       "<Figure size 450.375x360 with 1 Axes>"
      ]
     },
     "metadata": {
      "needs_background": "light"
     },
     "output_type": "display_data"
    }
   ],
   "source": [
    "sns.catplot(x=\"dependents\", kind=\"count\", hue=\"Class\", data=df)"
   ]
  },
  {
   "cell_type": "code",
   "execution_count": 38,
   "id": "3c90d05a",
   "metadata": {},
   "outputs": [
    {
     "data": {
      "text/plain": [
       "<AxesSubplot:xlabel='dependents', ylabel='monthly_cost'>"
      ]
     },
     "execution_count": 38,
     "metadata": {},
     "output_type": "execute_result"
    },
    {
     "data": {
      "image/png": "[encoded data removed]",
      "text/plain": [
       "<Figure size 432x288 with 1 Axes>"
      ]
     },
     "metadata": {
      "needs_background": "light"
     },
     "output_type": "display_data"
    }
   ],
   "source": [
    "sns.violinplot(x=\"dependents\", y=\"monthly_cost\",hue=\"Class\", data=df,palette=\"muted\", split=True)"
   ]
  },
  {
   "cell_type": "code",
   "execution_count": 39,
   "id": "789552ae",
   "metadata": {},
   "outputs": [
    {
     "data": {
      "text/plain": [
       "<AxesSubplot:xlabel='dependents', ylabel='Tenure'>"
      ]
     },
     "execution_count": 39,
     "metadata": {},
     "output_type": "execute_result"
    },
    {
     "data": {
      "image/png": "[encoded data removed]",
      "text/plain": [
       "<Figure size 432x288 with 1 Axes>"
      ]
     },
     "metadata": {
      "needs_background": "light"
     },
     "output_type": "display_data"
    }
   ],
   "source": [
    "sns.violinplot(x=\"dependents\", y=\"Tenure\",hue=\"Class\", data=df,palette=\"muted\", split=True)"
   ]
  },
  {
   "cell_type": "markdown",
   "id": "bc43b741",
   "metadata": {},
   "source": [
    "#### Seniors"
   ]
  },
  {
   "cell_type": "code",
   "execution_count": 40,
   "id": "7737afac",
   "metadata": {},
   "outputs": [
    {
     "name": "stdout",
     "output_type": "stream",
     "text": [
      "0    5546\n",
      "1    1158\n",
      "Name: senior, dtype: int64\n"
     ]
    }
   ],
   "source": [
    "print(df['senior'].value_counts())"
   ]
  },
  {
   "cell_type": "code",
   "execution_count": 41,
   "id": "81a3e86c",
   "metadata": {},
   "outputs": [
    {
     "data": {
      "text/plain": [
       "<seaborn.axisgrid.FacetGrid at 0x1eabd1703a0>"
      ]
     },
     "execution_count": 41,
     "metadata": {},
     "output_type": "execute_result"
    },
    {
     "data": {
      "image/png": "[encoded data removed]",
      "text/plain": [
       "<Figure size 360x360 with 1 Axes>"
      ]
     },
     "metadata": {
      "needs_background": "light"
     },
     "output_type": "display_data"
    }
   ],
   "source": [
    "sns.catplot(x=\"senior\", kind=\"count\", data=df) "
   ]
  },
  {
   "cell_type": "code",
   "execution_count": 42,
   "id": "3d6217ce",
   "metadata": {},
   "outputs": [
    {
     "data": {
      "text/plain": [
       "<seaborn.axisgrid.FacetGrid at 0x1eabd180820>"
      ]
     },
     "execution_count": 42,
     "metadata": {},
     "output_type": "execute_result"
    },
    {
     "data": {
      "image/png": "[encoded data removed]",
      "text/plain": [
       "<Figure size 450.375x360 with 1 Axes>"
      ]
     },
     "metadata": {
      "needs_background": "light"
     },
     "output_type": "display_data"
    }
   ],
   "source": [
    "sns.catplot(x=\"senior\", kind=\"count\", hue=\"Class\", data=df)"
   ]
  },
  {
   "cell_type": "code",
   "execution_count": 43,
   "id": "88a2b7e0",
   "metadata": {},
   "outputs": [
    {
     "data": {
      "text/plain": [
       "<AxesSubplot:xlabel='senior', ylabel='monthly_cost'>"
      ]
     },
     "execution_count": 43,
     "metadata": {},
     "output_type": "execute_result"
    },
    {
     "data": {
      "image/png": "[encoded data removed]",
      "text/plain": [
       "<Figure size 432x288 with 1 Axes>"
      ]
     },
     "metadata": {
      "needs_background": "light"
     },
     "output_type": "display_data"
    }
   ],
   "source": [
    "sns.violinplot(x=\"senior\", y=\"monthly_cost\",hue=\"Class\", data=df,palette=\"muted\", split=True)"
   ]
  },
  {
   "cell_type": "code",
   "execution_count": 44,
   "id": "6c68e3f2",
   "metadata": {},
   "outputs": [
    {
     "data": {
      "text/plain": [
       "<AxesSubplot:xlabel='senior', ylabel='Tenure'>"
      ]
     },
     "execution_count": 44,
     "metadata": {},
     "output_type": "execute_result"
    },
    {
     "data": {
      "image/png": "[encoded data removed]",
      "text/plain": [
       "<Figure size 432x288 with 1 Axes>"
      ]
     },
     "metadata": {
      "needs_background": "light"
     },
     "output_type": "display_data"
    }
   ],
   "source": [
    "sns.violinplot(x=\"senior\", y=\"Tenure\",hue=\"Class\", data=df,palette=\"muted\", split=True)"
   ]
  },
  {
   "cell_type": "markdown",
   "id": "0342533c",
   "metadata": {},
   "source": [
    "#### Location"
   ]
  },
  {
   "cell_type": "code",
   "execution_count": 45,
   "id": "4c7c39fa",
   "metadata": {},
   "outputs": [
    {
     "data": {
      "text/plain": [
       "<seaborn.axisgrid.FacetGrid at 0x1eabd3e8a90>"
      ]
     },
     "execution_count": 45,
     "metadata": {},
     "output_type": "execute_result"
    },
    {
     "data": {
      "image/png": "[encoded data removed]",
      "text/plain": [
       "<Figure size 1296x432 with 1 Axes>"
      ]
     },
     "metadata": {
      "needs_background": "light"
     },
     "output_type": "display_data"
    }
   ],
   "source": [
    "sns.catplot(x=\"location\", kind=\"count\", data=df,height=6, aspect=3) "
   ]
  },
  {
   "cell_type": "code",
   "execution_count": 46,
   "id": "0385bb22",
   "metadata": {},
   "outputs": [
    {
     "data": {
      "text/plain": [
       "<seaborn.axisgrid.FacetGrid at 0x1eabd3e0190>"
      ]
     },
     "execution_count": 46,
     "metadata": {},
     "output_type": "execute_result"
    },
    {
     "data": {
      "image/png": "[encoded data removed]",
      "text/plain": [
       "<Figure size 1386.38x432 with 1 Axes>"
      ]
     },
     "metadata": {
      "needs_background": "light"
     },
     "output_type": "display_data"
    }
   ],
   "source": [
    "sns.catplot(x=\"location\", kind=\"count\", hue=\"Class\", data=df,height=6, aspect=3)"
   ]
  },
  {
   "cell_type": "code",
   "execution_count": 47,
   "id": "3dc0705b",
   "metadata": {},
   "outputs": [
    {
     "data": {
      "text/plain": [
       "<AxesSubplot:xlabel='location', ylabel='monthly_cost'>"
      ]
     },
     "execution_count": 47,
     "metadata": {},
     "output_type": "execute_result"
    },
    {
     "data": {
      "image/png": "[encoded data removed]",
      "text/plain": [
       "<Figure size 432x288 with 1 Axes>"
      ]
     },
     "metadata": {
      "needs_background": "light"
     },
     "output_type": "display_data"
    }
   ],
   "source": [
    "sns.violinplot(x=\"location\", y=\"monthly_cost\",hue=\"Class\", data=df,palette=\"muted\", split=True)"
   ]
  },
  {
   "cell_type": "code",
   "execution_count": 48,
   "id": "3820b664",
   "metadata": {
    "scrolled": true
   },
   "outputs": [
    {
     "data": {
      "text/plain": [
       "<AxesSubplot:xlabel='location', ylabel='Tenure'>"
      ]
     },
     "execution_count": 48,
     "metadata": {},
     "output_type": "execute_result"
    },
    {
     "data": {
      "image/png": "[encoded data removed]",
      "text/plain": [
       "<Figure size 432x288 with 1 Axes>"
      ]
     },
     "metadata": {
      "needs_background": "light"
     },
     "output_type": "display_data"
    }
   ],
   "source": [
    "sns.violinplot(x=\"location\", y=\"Tenure\",hue=\"Class\", data=df,palette=\"muted\", split=True)"
   ]
  },
  {
   "cell_type": "markdown",
   "id": "0e043db5",
   "metadata": {},
   "source": [
    "Survey"
   ]
  },
  {
   "cell_type": "code",
   "execution_count": 49,
   "id": "c8be37be",
   "metadata": {},
   "outputs": [
    {
     "name": "stdout",
     "output_type": "stream",
     "text": [
      "6           1090\n",
      "5            956\n",
      "7            865\n",
      "2            654\n",
      "4            625\n",
      "1            568\n",
      "3            539\n",
      "No reply     507\n",
      "8            476\n",
      "0            218\n",
      "9            177\n",
      "10            29\n",
      "Name: survey, dtype: int64\n"
     ]
    }
   ],
   "source": [
    "print(df['survey'].value_counts())"
   ]
  },
  {
   "cell_type": "code",
   "execution_count": 50,
   "id": "1da43a29",
   "metadata": {},
   "outputs": [
    {
     "data": {
      "text/plain": [
       "<seaborn.axisgrid.FacetGrid at 0x1eabdaa44c0>"
      ]
     },
     "execution_count": 50,
     "metadata": {},
     "output_type": "execute_result"
    },
    {
     "data": {
      "image/png": "[encoded data removed]",
      "text/plain": [
       "<Figure size 360x360 with 1 Axes>"
      ]
     },
     "metadata": {
      "needs_background": "light"
     },
     "output_type": "display_data"
    }
   ],
   "source": [
    "sns.catplot(x=\"survey\", kind=\"count\", data=df) "
   ]
  },
  {
   "cell_type": "code",
   "execution_count": 51,
   "id": "5d430bb8",
   "metadata": {},
   "outputs": [
    {
     "data": {
      "text/plain": [
       "<seaborn.axisgrid.FacetGrid at 0x1eabdd56730>"
      ]
     },
     "execution_count": 51,
     "metadata": {},
     "output_type": "execute_result"
    },
    {
     "data": {
      "image/png": "[encoded data removed]",
      "text/plain": [
       "<Figure size 450.375x360 with 1 Axes>"
      ]
     },
     "metadata": {
      "needs_background": "light"
     },
     "output_type": "display_data"
    }
   ],
   "source": [
    "sns.catplot(x=\"survey\", kind=\"count\", hue=\"Class\", data=df)"
   ]
  },
  {
   "cell_type": "code",
   "execution_count": 52,
   "id": "7b107826",
   "metadata": {},
   "outputs": [
    {
     "data": {
      "text/plain": [
       "<AxesSubplot:xlabel='survey', ylabel='monthly_cost'>"
      ]
     },
     "execution_count": 52,
     "metadata": {},
     "output_type": "execute_result"
    },
    {
     "data": {
      "image/png": "[encoded data removed]",
      "text/plain": [
       "<Figure size 432x288 with 1 Axes>"
      ]
     },
     "metadata": {
      "needs_background": "light"
     },
     "output_type": "display_data"
    }
   ],
   "source": [
    "sns.violinplot(x=\"survey\", y=\"monthly_cost\",hue=\"Class\", data=df,palette=\"muted\", split=True)"
   ]
  },
  {
   "cell_type": "code",
   "execution_count": 53,
   "id": "6825397e",
   "metadata": {},
   "outputs": [
    {
     "data": {
      "text/plain": [
       "<AxesSubplot:xlabel='survey', ylabel='Tenure'>"
      ]
     },
     "execution_count": 53,
     "metadata": {},
     "output_type": "execute_result"
    },
    {
     "data": {
      "image/png": "[encoded data removed]",
      "text/plain": [
       "<Figure size 432x288 with 1 Axes>"
      ]
     },
     "metadata": {
      "needs_background": "light"
     },
     "output_type": "display_data"
    }
   ],
   "source": [
    "sns.violinplot(x=\"survey\", y=\"Tenure\",hue=\"Class\", data=df,palette=\"muted\", split=True)"
   ]
  },
  {
   "cell_type": "markdown",
   "id": "88688885",
   "metadata": {},
   "source": [
    "H0:people who dont have dependents are churning more."
   ]
  },
  {
   "cell_type": "markdown",
   "id": "93fbbafb",
   "metadata": {},
   "source": [
    "Data pre processing"
   ]
  },
  {
   "cell_type": "code",
   "execution_count": 54,
   "id": "7de4263f",
   "metadata": {},
   "outputs": [],
   "source": [
    "churn_numeric = {'Churn=Yes':1, 'Churn=No':0,'Y$e$s$$':1}\n",
    "df.Class.replace(churn_numeric, inplace=True)\n",
    "df.gender.replace({'Female':0,'Male':1},inplace=True)"
   ]
  },
  {
   "cell_type": "code",
   "execution_count": 55,
   "id": "50beaa60",
   "metadata": {},
   "outputs": [
    {
     "data": {
      "text/html": [
       "<div>\n",
       "<style scoped>\n",
       "    .dataframe tbody tr th:only-of-type {\n",
       "        vertical-align: middle;\n",
       "    }\n",
       "\n",
       "    .dataframe tbody tr th {\n",
       "        vertical-align: top;\n",
       "    }\n",
       "\n",
       "    .dataframe thead th {\n",
       "        text-align: right;\n",
       "    }\n",
       "</style>\n",
       "<table border=\"1\" class=\"dataframe\">\n",
       "  <thead>\n",
       "    <tr style=\"text-align: right;\">\n",
       "      <th></th>\n",
       "      <th>customer_id</th>\n",
       "      <th>gender</th>\n",
       "      <th>partner</th>\n",
       "      <th>dependents</th>\n",
       "      <th>senior</th>\n",
       "      <th>Tenure</th>\n",
       "      <th>monthly_cost</th>\n",
       "      <th>package</th>\n",
       "      <th>survey</th>\n",
       "      <th>Class</th>\n",
       "      <th>location_Greater London</th>\n",
       "      <th>location_Non london area</th>\n",
       "    </tr>\n",
       "  </thead>\n",
       "  <tbody>\n",
       "    <tr>\n",
       "      <th>0</th>\n",
       "      <td>K3713</td>\n",
       "      <td>1</td>\n",
       "      <td>0</td>\n",
       "      <td>Unknown</td>\n",
       "      <td>0</td>\n",
       "      <td>12.0</td>\n",
       "      <td>26</td>\n",
       "      <td>1</td>\n",
       "      <td>6</td>\n",
       "      <td>0</td>\n",
       "      <td>0</td>\n",
       "      <td>1</td>\n",
       "    </tr>\n",
       "    <tr>\n",
       "      <th>1</th>\n",
       "      <td>D9048</td>\n",
       "      <td>1</td>\n",
       "      <td>1</td>\n",
       "      <td>1</td>\n",
       "      <td>0</td>\n",
       "      <td>21.0</td>\n",
       "      <td>47</td>\n",
       "      <td>4</td>\n",
       "      <td>6</td>\n",
       "      <td>0</td>\n",
       "      <td>0</td>\n",
       "      <td>1</td>\n",
       "    </tr>\n",
       "    <tr>\n",
       "      <th>2</th>\n",
       "      <td>K8227</td>\n",
       "      <td>0</td>\n",
       "      <td>0</td>\n",
       "      <td>Unknown</td>\n",
       "      <td>0</td>\n",
       "      <td>0.0</td>\n",
       "      <td>26</td>\n",
       "      <td>1</td>\n",
       "      <td>4</td>\n",
       "      <td>1</td>\n",
       "      <td>0</td>\n",
       "      <td>1</td>\n",
       "    </tr>\n",
       "    <tr>\n",
       "      <th>3</th>\n",
       "      <td>H3533</td>\n",
       "      <td>1</td>\n",
       "      <td>1</td>\n",
       "      <td>1</td>\n",
       "      <td>1</td>\n",
       "      <td>11.0</td>\n",
       "      <td>34</td>\n",
       "      <td>2</td>\n",
       "      <td>4</td>\n",
       "      <td>0</td>\n",
       "      <td>1</td>\n",
       "      <td>0</td>\n",
       "    </tr>\n",
       "    <tr>\n",
       "      <th>4</th>\n",
       "      <td>J4501</td>\n",
       "      <td>1</td>\n",
       "      <td>0</td>\n",
       "      <td>0</td>\n",
       "      <td>0</td>\n",
       "      <td>7.0</td>\n",
       "      <td>47</td>\n",
       "      <td>4</td>\n",
       "      <td>2</td>\n",
       "      <td>1</td>\n",
       "      <td>1</td>\n",
       "      <td>0</td>\n",
       "    </tr>\n",
       "    <tr>\n",
       "      <th>...</th>\n",
       "      <td>...</td>\n",
       "      <td>...</td>\n",
       "      <td>...</td>\n",
       "      <td>...</td>\n",
       "      <td>...</td>\n",
       "      <td>...</td>\n",
       "      <td>...</td>\n",
       "      <td>...</td>\n",
       "      <td>...</td>\n",
       "      <td>...</td>\n",
       "      <td>...</td>\n",
       "      <td>...</td>\n",
       "    </tr>\n",
       "    <tr>\n",
       "      <th>7344</th>\n",
       "      <td>I3187</td>\n",
       "      <td>1</td>\n",
       "      <td>1</td>\n",
       "      <td>Unknown</td>\n",
       "      <td>0</td>\n",
       "      <td>0.0</td>\n",
       "      <td>26</td>\n",
       "      <td>1</td>\n",
       "      <td>6</td>\n",
       "      <td>1</td>\n",
       "      <td>1</td>\n",
       "      <td>0</td>\n",
       "    </tr>\n",
       "    <tr>\n",
       "      <th>7345</th>\n",
       "      <td>H7244</td>\n",
       "      <td>0</td>\n",
       "      <td>0</td>\n",
       "      <td>0</td>\n",
       "      <td>0</td>\n",
       "      <td>1.0</td>\n",
       "      <td>26</td>\n",
       "      <td>1</td>\n",
       "      <td>1</td>\n",
       "      <td>1</td>\n",
       "      <td>1</td>\n",
       "      <td>0</td>\n",
       "    </tr>\n",
       "    <tr>\n",
       "      <th>7347</th>\n",
       "      <td>I5775</td>\n",
       "      <td>1</td>\n",
       "      <td>1</td>\n",
       "      <td>1</td>\n",
       "      <td>0</td>\n",
       "      <td>16.0</td>\n",
       "      <td>47</td>\n",
       "      <td>4</td>\n",
       "      <td>2</td>\n",
       "      <td>0</td>\n",
       "      <td>1</td>\n",
       "      <td>0</td>\n",
       "    </tr>\n",
       "    <tr>\n",
       "      <th>7348</th>\n",
       "      <td>E9984</td>\n",
       "      <td>0</td>\n",
       "      <td>0</td>\n",
       "      <td>1</td>\n",
       "      <td>0</td>\n",
       "      <td>17.0</td>\n",
       "      <td>26</td>\n",
       "      <td>1</td>\n",
       "      <td>4</td>\n",
       "      <td>1</td>\n",
       "      <td>1</td>\n",
       "      <td>0</td>\n",
       "    </tr>\n",
       "    <tr>\n",
       "      <th>7349</th>\n",
       "      <td>F2835</td>\n",
       "      <td>1</td>\n",
       "      <td>0</td>\n",
       "      <td>1</td>\n",
       "      <td>0</td>\n",
       "      <td>13.0</td>\n",
       "      <td>34</td>\n",
       "      <td>2</td>\n",
       "      <td>7</td>\n",
       "      <td>0</td>\n",
       "      <td>0</td>\n",
       "      <td>1</td>\n",
       "    </tr>\n",
       "  </tbody>\n",
       "</table>\n",
       "<p>6704 rows × 12 columns</p>\n",
       "</div>"
      ],
      "text/plain": [
       "     customer_id  gender  partner dependents  senior  Tenure  monthly_cost  \\\n",
       "0          K3713       1        0    Unknown       0    12.0            26   \n",
       "1          D9048       1        1          1       0    21.0            47   \n",
       "2          K8227       0        0    Unknown       0     0.0            26   \n",
       "3          H3533       1        1          1       1    11.0            34   \n",
       "4          J4501       1        0          0       0     7.0            47   \n",
       "...          ...     ...      ...        ...     ...     ...           ...   \n",
       "7344       I3187       1        1    Unknown       0     0.0            26   \n",
       "7345       H7244       0        0          0       0     1.0            26   \n",
       "7347       I5775       1        1          1       0    16.0            47   \n",
       "7348       E9984       0        0          1       0    17.0            26   \n",
       "7349       F2835       1        0          1       0    13.0            34   \n",
       "\n",
       "      package survey  Class  location_Greater London  location_Non london area  \n",
       "0           1      6      0                        0                         1  \n",
       "1           4      6      0                        0                         1  \n",
       "2           1      4      1                        0                         1  \n",
       "3           2      4      0                        1                         0  \n",
       "4           4      2      1                        1                         0  \n",
       "...       ...    ...    ...                      ...                       ...  \n",
       "7344        1      6      1                        1                         0  \n",
       "7345        1      1      1                        1                         0  \n",
       "7347        4      2      0                        1                         0  \n",
       "7348        1      4      1                        1                         0  \n",
       "7349        2      7      0                        0                         1  \n",
       "\n",
       "[6704 rows x 12 columns]"
      ]
     },
     "execution_count": 55,
     "metadata": {},
     "output_type": "execute_result"
    }
   ],
   "source": [
    "df=df.replace(['West Midlands', 'Greater Manchester', 'West Yorkshire', 'Kent','Hampshire','Essex','Lancashire','Merseyside','South Yorkshire','North Yorkshire','Devon','Hertfordshire','Surrey','Tyne and Wear','Nottinghamshire','Staffordshire'], 'Non london area')\n",
    "df=pd.get_dummies(df,columns=['location'])\n",
    "df"
   ]
  },
  {
   "cell_type": "code",
   "execution_count": 56,
   "id": "301c029b",
   "metadata": {},
   "outputs": [
    {
     "data": {
      "text/plain": [
       "dependents  Class\n",
       "0           1         973\n",
       "            0         513\n",
       "1           0        2780\n",
       "            1         371\n",
       "Unknown     0        1485\n",
       "            1         582\n",
       "Name: Class, dtype: int64"
      ]
     },
     "execution_count": 56,
     "metadata": {},
     "output_type": "execute_result"
    }
   ],
   "source": [
    "df.groupby('dependents')['Class'].value_counts()"
   ]
  },
  {
   "cell_type": "code",
   "execution_count": 57,
   "id": "d6cbae48",
   "metadata": {},
   "outputs": [],
   "source": [
    "df.gender.replace({'Male':0,'Female':1}, inplace=True)\n",
    "df.loc[df['Tenure'] < 0, 'Tenure'] = 0"
   ]
  },
  {
   "cell_type": "code",
   "execution_count": 58,
   "id": "5ce8634e",
   "metadata": {},
   "outputs": [],
   "source": [
    "df['Tenure']=df['Tenure'].astype(int)\n",
    "# df['dependents']=df['dependents'].astype(int)\n",
    "# df['survey']=df['survey'].astype(int)\n",
    "df['Class']=df['Class'].astype(int)\n",
    "df['monthly_cost']=df['monthly_cost'].astype(int)\n",
    "df['location_Greater London']=df['location_Greater London'].astype(int)\n",
    "df['location_Non london area']=df['location_Non london area'].astype(int)"
   ]
  },
  {
   "cell_type": "code",
   "execution_count": 59,
   "id": "dd94be77",
   "metadata": {
    "scrolled": true
   },
   "outputs": [
    {
     "data": {
      "text/html": [
       "<div>\n",
       "<style scoped>\n",
       "    .dataframe tbody tr th:only-of-type {\n",
       "        vertical-align: middle;\n",
       "    }\n",
       "\n",
       "    .dataframe tbody tr th {\n",
       "        vertical-align: top;\n",
       "    }\n",
       "\n",
       "    .dataframe thead th {\n",
       "        text-align: right;\n",
       "    }\n",
       "</style>\n",
       "<table border=\"1\" class=\"dataframe\">\n",
       "  <thead>\n",
       "    <tr style=\"text-align: right;\">\n",
       "      <th></th>\n",
       "      <th>customer_id</th>\n",
       "      <th>gender</th>\n",
       "      <th>partner</th>\n",
       "      <th>dependents</th>\n",
       "      <th>senior</th>\n",
       "      <th>Tenure</th>\n",
       "      <th>monthly_cost</th>\n",
       "      <th>package</th>\n",
       "      <th>survey</th>\n",
       "      <th>Class</th>\n",
       "      <th>location_Greater London</th>\n",
       "      <th>location_Non london area</th>\n",
       "    </tr>\n",
       "  </thead>\n",
       "  <tbody>\n",
       "    <tr>\n",
       "      <th>0</th>\n",
       "      <td>K3713</td>\n",
       "      <td>1</td>\n",
       "      <td>0</td>\n",
       "      <td>Unknown</td>\n",
       "      <td>0</td>\n",
       "      <td>0.400000</td>\n",
       "      <td>0.000000</td>\n",
       "      <td>1</td>\n",
       "      <td>6</td>\n",
       "      <td>0</td>\n",
       "      <td>0</td>\n",
       "      <td>1</td>\n",
       "    </tr>\n",
       "    <tr>\n",
       "      <th>1</th>\n",
       "      <td>D9048</td>\n",
       "      <td>1</td>\n",
       "      <td>1</td>\n",
       "      <td>1</td>\n",
       "      <td>0</td>\n",
       "      <td>0.700000</td>\n",
       "      <td>1.000000</td>\n",
       "      <td>4</td>\n",
       "      <td>6</td>\n",
       "      <td>0</td>\n",
       "      <td>0</td>\n",
       "      <td>1</td>\n",
       "    </tr>\n",
       "    <tr>\n",
       "      <th>2</th>\n",
       "      <td>K8227</td>\n",
       "      <td>0</td>\n",
       "      <td>0</td>\n",
       "      <td>Unknown</td>\n",
       "      <td>0</td>\n",
       "      <td>0.000000</td>\n",
       "      <td>0.000000</td>\n",
       "      <td>1</td>\n",
       "      <td>4</td>\n",
       "      <td>1</td>\n",
       "      <td>0</td>\n",
       "      <td>1</td>\n",
       "    </tr>\n",
       "    <tr>\n",
       "      <th>3</th>\n",
       "      <td>H3533</td>\n",
       "      <td>1</td>\n",
       "      <td>1</td>\n",
       "      <td>1</td>\n",
       "      <td>1</td>\n",
       "      <td>0.366667</td>\n",
       "      <td>0.380952</td>\n",
       "      <td>2</td>\n",
       "      <td>4</td>\n",
       "      <td>0</td>\n",
       "      <td>1</td>\n",
       "      <td>0</td>\n",
       "    </tr>\n",
       "    <tr>\n",
       "      <th>4</th>\n",
       "      <td>J4501</td>\n",
       "      <td>1</td>\n",
       "      <td>0</td>\n",
       "      <td>0</td>\n",
       "      <td>0</td>\n",
       "      <td>0.233333</td>\n",
       "      <td>1.000000</td>\n",
       "      <td>4</td>\n",
       "      <td>2</td>\n",
       "      <td>1</td>\n",
       "      <td>1</td>\n",
       "      <td>0</td>\n",
       "    </tr>\n",
       "    <tr>\n",
       "      <th>...</th>\n",
       "      <td>...</td>\n",
       "      <td>...</td>\n",
       "      <td>...</td>\n",
       "      <td>...</td>\n",
       "      <td>...</td>\n",
       "      <td>...</td>\n",
       "      <td>...</td>\n",
       "      <td>...</td>\n",
       "      <td>...</td>\n",
       "      <td>...</td>\n",
       "      <td>...</td>\n",
       "      <td>...</td>\n",
       "    </tr>\n",
       "    <tr>\n",
       "      <th>7344</th>\n",
       "      <td>I3187</td>\n",
       "      <td>1</td>\n",
       "      <td>1</td>\n",
       "      <td>Unknown</td>\n",
       "      <td>0</td>\n",
       "      <td>0.000000</td>\n",
       "      <td>0.000000</td>\n",
       "      <td>1</td>\n",
       "      <td>6</td>\n",
       "      <td>1</td>\n",
       "      <td>1</td>\n",
       "      <td>0</td>\n",
       "    </tr>\n",
       "    <tr>\n",
       "      <th>7345</th>\n",
       "      <td>H7244</td>\n",
       "      <td>0</td>\n",
       "      <td>0</td>\n",
       "      <td>0</td>\n",
       "      <td>0</td>\n",
       "      <td>0.033333</td>\n",
       "      <td>0.000000</td>\n",
       "      <td>1</td>\n",
       "      <td>1</td>\n",
       "      <td>1</td>\n",
       "      <td>1</td>\n",
       "      <td>0</td>\n",
       "    </tr>\n",
       "    <tr>\n",
       "      <th>7347</th>\n",
       "      <td>I5775</td>\n",
       "      <td>1</td>\n",
       "      <td>1</td>\n",
       "      <td>1</td>\n",
       "      <td>0</td>\n",
       "      <td>0.533333</td>\n",
       "      <td>1.000000</td>\n",
       "      <td>4</td>\n",
       "      <td>2</td>\n",
       "      <td>0</td>\n",
       "      <td>1</td>\n",
       "      <td>0</td>\n",
       "    </tr>\n",
       "    <tr>\n",
       "      <th>7348</th>\n",
       "      <td>E9984</td>\n",
       "      <td>0</td>\n",
       "      <td>0</td>\n",
       "      <td>1</td>\n",
       "      <td>0</td>\n",
       "      <td>0.566667</td>\n",
       "      <td>0.000000</td>\n",
       "      <td>1</td>\n",
       "      <td>4</td>\n",
       "      <td>1</td>\n",
       "      <td>1</td>\n",
       "      <td>0</td>\n",
       "    </tr>\n",
       "    <tr>\n",
       "      <th>7349</th>\n",
       "      <td>F2835</td>\n",
       "      <td>1</td>\n",
       "      <td>0</td>\n",
       "      <td>1</td>\n",
       "      <td>0</td>\n",
       "      <td>0.433333</td>\n",
       "      <td>0.380952</td>\n",
       "      <td>2</td>\n",
       "      <td>7</td>\n",
       "      <td>0</td>\n",
       "      <td>0</td>\n",
       "      <td>1</td>\n",
       "    </tr>\n",
       "  </tbody>\n",
       "</table>\n",
       "<p>6704 rows × 12 columns</p>\n",
       "</div>"
      ],
      "text/plain": [
       "     customer_id  gender  partner dependents  senior    Tenure  monthly_cost  \\\n",
       "0          K3713       1        0    Unknown       0  0.400000      0.000000   \n",
       "1          D9048       1        1          1       0  0.700000      1.000000   \n",
       "2          K8227       0        0    Unknown       0  0.000000      0.000000   \n",
       "3          H3533       1        1          1       1  0.366667      0.380952   \n",
       "4          J4501       1        0          0       0  0.233333      1.000000   \n",
       "...          ...     ...      ...        ...     ...       ...           ...   \n",
       "7344       I3187       1        1    Unknown       0  0.000000      0.000000   \n",
       "7345       H7244       0        0          0       0  0.033333      0.000000   \n",
       "7347       I5775       1        1          1       0  0.533333      1.000000   \n",
       "7348       E9984       0        0          1       0  0.566667      0.000000   \n",
       "7349       F2835       1        0          1       0  0.433333      0.380952   \n",
       "\n",
       "      package survey  Class  location_Greater London  location_Non london area  \n",
       "0           1      6      0                        0                         1  \n",
       "1           4      6      0                        0                         1  \n",
       "2           1      4      1                        0                         1  \n",
       "3           2      4      0                        1                         0  \n",
       "4           4      2      1                        1                         0  \n",
       "...       ...    ...    ...                      ...                       ...  \n",
       "7344        1      6      1                        1                         0  \n",
       "7345        1      1      1                        1                         0  \n",
       "7347        4      2      0                        1                         0  \n",
       "7348        1      4      1                        1                         0  \n",
       "7349        2      7      0                        0                         1  \n",
       "\n",
       "[6704 rows x 12 columns]"
      ]
     },
     "metadata": {},
     "output_type": "display_data"
    }
   ],
   "source": [
    "df['Tenure'] = MinMaxScaler().fit_transform(np.array(df['Tenure']).reshape(-1,1))\n",
    "df['monthly_cost'] = MinMaxScaler().fit_transform(np.array(df['monthly_cost']).reshape(-1,1))  \n",
    "# view normalized data  \n",
    "display(df)"
   ]
  },
  {
   "cell_type": "code",
   "execution_count": 60,
   "id": "95f35b21",
   "metadata": {},
   "outputs": [
    {
     "data": {
      "text/plain": [
       "((2067, 12), (4637, 12))"
      ]
     },
     "execution_count": 60,
     "metadata": {},
     "output_type": "execute_result"
    }
   ],
   "source": [
    "df1_test=df[df['dependents'] == \"Unknown\"]\n",
    "df2_train=df[df['dependents'] != \"Unknown\"] #df2 main\n",
    "df1_test.shape,df2_train.shape\n"
   ]
  },
  {
   "cell_type": "code",
   "execution_count": 61,
   "id": "6c8df1fc",
   "metadata": {},
   "outputs": [
    {
     "data": {
      "text/plain": [
       "array([1, 0, 1, ..., 1, 1, 0])"
      ]
     },
     "execution_count": 61,
     "metadata": {},
     "output_type": "execute_result"
    }
   ],
   "source": [
    "df2_train['dependents']=df2_train['dependents'].astype(int)\n",
    "classifier = LogisticRegression()\n",
    "classifier.fit(df2_train[['gender','partner','senior','Tenure','Class']], df2_train['dependents'])\n",
    "pred=classifier.predict(df1_test[['gender','partner','senior','Tenure','Class']])\n",
    "pred"
   ]
  },
  {
   "cell_type": "code",
   "execution_count": 62,
   "id": "9c9afa1d",
   "metadata": {},
   "outputs": [
    {
     "data": {
      "text/html": [
       "<div>\n",
       "<style scoped>\n",
       "    .dataframe tbody tr th:only-of-type {\n",
       "        vertical-align: middle;\n",
       "    }\n",
       "\n",
       "    .dataframe tbody tr th {\n",
       "        vertical-align: top;\n",
       "    }\n",
       "\n",
       "    .dataframe thead th {\n",
       "        text-align: right;\n",
       "    }\n",
       "</style>\n",
       "<table border=\"1\" class=\"dataframe\">\n",
       "  <thead>\n",
       "    <tr style=\"text-align: right;\">\n",
       "      <th></th>\n",
       "      <th>customer_id</th>\n",
       "      <th>gender</th>\n",
       "      <th>partner</th>\n",
       "      <th>dependents</th>\n",
       "      <th>senior</th>\n",
       "      <th>Tenure</th>\n",
       "      <th>monthly_cost</th>\n",
       "      <th>package</th>\n",
       "      <th>survey</th>\n",
       "      <th>Class</th>\n",
       "      <th>location_Greater London</th>\n",
       "      <th>location_Non london area</th>\n",
       "    </tr>\n",
       "  </thead>\n",
       "  <tbody>\n",
       "    <tr>\n",
       "      <th>0</th>\n",
       "      <td>K3713</td>\n",
       "      <td>1</td>\n",
       "      <td>0</td>\n",
       "      <td>1</td>\n",
       "      <td>0</td>\n",
       "      <td>0.400000</td>\n",
       "      <td>0.000000</td>\n",
       "      <td>1</td>\n",
       "      <td>6</td>\n",
       "      <td>0</td>\n",
       "      <td>0</td>\n",
       "      <td>1</td>\n",
       "    </tr>\n",
       "    <tr>\n",
       "      <th>2</th>\n",
       "      <td>K8227</td>\n",
       "      <td>0</td>\n",
       "      <td>0</td>\n",
       "      <td>0</td>\n",
       "      <td>0</td>\n",
       "      <td>0.000000</td>\n",
       "      <td>0.000000</td>\n",
       "      <td>1</td>\n",
       "      <td>4</td>\n",
       "      <td>1</td>\n",
       "      <td>0</td>\n",
       "      <td>1</td>\n",
       "    </tr>\n",
       "    <tr>\n",
       "      <th>5</th>\n",
       "      <td>K3269</td>\n",
       "      <td>0</td>\n",
       "      <td>1</td>\n",
       "      <td>1</td>\n",
       "      <td>0</td>\n",
       "      <td>0.600000</td>\n",
       "      <td>0.000000</td>\n",
       "      <td>1</td>\n",
       "      <td>3</td>\n",
       "      <td>0</td>\n",
       "      <td>0</td>\n",
       "      <td>1</td>\n",
       "    </tr>\n",
       "    <tr>\n",
       "      <th>7</th>\n",
       "      <td>E1851</td>\n",
       "      <td>1</td>\n",
       "      <td>0</td>\n",
       "      <td>1</td>\n",
       "      <td>0</td>\n",
       "      <td>0.066667</td>\n",
       "      <td>0.000000</td>\n",
       "      <td>1</td>\n",
       "      <td>4</td>\n",
       "      <td>0</td>\n",
       "      <td>0</td>\n",
       "      <td>1</td>\n",
       "    </tr>\n",
       "    <tr>\n",
       "      <th>8</th>\n",
       "      <td>H3588</td>\n",
       "      <td>0</td>\n",
       "      <td>1</td>\n",
       "      <td>0</td>\n",
       "      <td>0</td>\n",
       "      <td>0.400000</td>\n",
       "      <td>0.666667</td>\n",
       "      <td>3</td>\n",
       "      <td>1</td>\n",
       "      <td>1</td>\n",
       "      <td>1</td>\n",
       "      <td>0</td>\n",
       "    </tr>\n",
       "    <tr>\n",
       "      <th>...</th>\n",
       "      <td>...</td>\n",
       "      <td>...</td>\n",
       "      <td>...</td>\n",
       "      <td>...</td>\n",
       "      <td>...</td>\n",
       "      <td>...</td>\n",
       "      <td>...</td>\n",
       "      <td>...</td>\n",
       "      <td>...</td>\n",
       "      <td>...</td>\n",
       "      <td>...</td>\n",
       "      <td>...</td>\n",
       "    </tr>\n",
       "    <tr>\n",
       "      <th>7334</th>\n",
       "      <td>D4511</td>\n",
       "      <td>1</td>\n",
       "      <td>1</td>\n",
       "      <td>1</td>\n",
       "      <td>0</td>\n",
       "      <td>0.566667</td>\n",
       "      <td>1.000000</td>\n",
       "      <td>4</td>\n",
       "      <td>7</td>\n",
       "      <td>0</td>\n",
       "      <td>1</td>\n",
       "      <td>0</td>\n",
       "    </tr>\n",
       "    <tr>\n",
       "      <th>7337</th>\n",
       "      <td>G4484</td>\n",
       "      <td>0</td>\n",
       "      <td>0</td>\n",
       "      <td>1</td>\n",
       "      <td>0</td>\n",
       "      <td>0.000000</td>\n",
       "      <td>0.000000</td>\n",
       "      <td>1</td>\n",
       "      <td>7</td>\n",
       "      <td>0</td>\n",
       "      <td>0</td>\n",
       "      <td>1</td>\n",
       "    </tr>\n",
       "    <tr>\n",
       "      <th>7341</th>\n",
       "      <td>C8964</td>\n",
       "      <td>0</td>\n",
       "      <td>1</td>\n",
       "      <td>1</td>\n",
       "      <td>0</td>\n",
       "      <td>0.766667</td>\n",
       "      <td>0.666667</td>\n",
       "      <td>3</td>\n",
       "      <td>4</td>\n",
       "      <td>0</td>\n",
       "      <td>1</td>\n",
       "      <td>0</td>\n",
       "    </tr>\n",
       "    <tr>\n",
       "      <th>7342</th>\n",
       "      <td>D1975</td>\n",
       "      <td>0</td>\n",
       "      <td>1</td>\n",
       "      <td>1</td>\n",
       "      <td>0</td>\n",
       "      <td>0.300000</td>\n",
       "      <td>0.380952</td>\n",
       "      <td>2</td>\n",
       "      <td>7</td>\n",
       "      <td>0</td>\n",
       "      <td>0</td>\n",
       "      <td>1</td>\n",
       "    </tr>\n",
       "    <tr>\n",
       "      <th>7344</th>\n",
       "      <td>I3187</td>\n",
       "      <td>1</td>\n",
       "      <td>1</td>\n",
       "      <td>0</td>\n",
       "      <td>0</td>\n",
       "      <td>0.000000</td>\n",
       "      <td>0.000000</td>\n",
       "      <td>1</td>\n",
       "      <td>6</td>\n",
       "      <td>1</td>\n",
       "      <td>1</td>\n",
       "      <td>0</td>\n",
       "    </tr>\n",
       "  </tbody>\n",
       "</table>\n",
       "<p>2067 rows × 12 columns</p>\n",
       "</div>"
      ],
      "text/plain": [
       "     customer_id  gender  partner  dependents  senior    Tenure  monthly_cost  \\\n",
       "0          K3713       1        0           1       0  0.400000      0.000000   \n",
       "2          K8227       0        0           0       0  0.000000      0.000000   \n",
       "5          K3269       0        1           1       0  0.600000      0.000000   \n",
       "7          E1851       1        0           1       0  0.066667      0.000000   \n",
       "8          H3588       0        1           0       0  0.400000      0.666667   \n",
       "...          ...     ...      ...         ...     ...       ...           ...   \n",
       "7334       D4511       1        1           1       0  0.566667      1.000000   \n",
       "7337       G4484       0        0           1       0  0.000000      0.000000   \n",
       "7341       C8964       0        1           1       0  0.766667      0.666667   \n",
       "7342       D1975       0        1           1       0  0.300000      0.380952   \n",
       "7344       I3187       1        1           0       0  0.000000      0.000000   \n",
       "\n",
       "      package survey  Class  location_Greater London  location_Non london area  \n",
       "0           1      6      0                        0                         1  \n",
       "2           1      4      1                        0                         1  \n",
       "5           1      3      0                        0                         1  \n",
       "7           1      4      0                        0                         1  \n",
       "8           3      1      1                        1                         0  \n",
       "...       ...    ...    ...                      ...                       ...  \n",
       "7334        4      7      0                        1                         0  \n",
       "7337        1      7      0                        0                         1  \n",
       "7341        3      4      0                        1                         0  \n",
       "7342        2      7      0                        0                         1  \n",
       "7344        1      6      1                        1                         0  \n",
       "\n",
       "[2067 rows x 12 columns]"
      ]
     },
     "execution_count": 62,
     "metadata": {},
     "output_type": "execute_result"
    }
   ],
   "source": [
    "df1_test['dependents']=pred\n",
    "df1_test"
   ]
  },
  {
   "cell_type": "code",
   "execution_count": 63,
   "id": "965ff1b9",
   "metadata": {},
   "outputs": [],
   "source": [
    "df=pd.concat([df2_train,df1_test])\n",
    "df=df.drop(['customer_id'], axis=1)"
   ]
  },
  {
   "cell_type": "code",
   "execution_count": 64,
   "id": "5fc38bc9",
   "metadata": {
    "scrolled": true
   },
   "outputs": [
    {
     "data": {
      "text/html": [
       "<div>\n",
       "<style scoped>\n",
       "    .dataframe tbody tr th:only-of-type {\n",
       "        vertical-align: middle;\n",
       "    }\n",
       "\n",
       "    .dataframe tbody tr th {\n",
       "        vertical-align: top;\n",
       "    }\n",
       "\n",
       "    .dataframe thead th {\n",
       "        text-align: right;\n",
       "    }\n",
       "</style>\n",
       "<table border=\"1\" class=\"dataframe\">\n",
       "  <thead>\n",
       "    <tr style=\"text-align: right;\">\n",
       "      <th></th>\n",
       "      <th>gender</th>\n",
       "      <th>partner</th>\n",
       "      <th>dependents</th>\n",
       "      <th>senior</th>\n",
       "      <th>Tenure</th>\n",
       "      <th>monthly_cost</th>\n",
       "      <th>package</th>\n",
       "      <th>survey</th>\n",
       "      <th>Class</th>\n",
       "      <th>location_Greater London</th>\n",
       "      <th>location_Non london area</th>\n",
       "    </tr>\n",
       "  </thead>\n",
       "  <tbody>\n",
       "    <tr>\n",
       "      <th>0</th>\n",
       "      <td>1</td>\n",
       "      <td>1</td>\n",
       "      <td>1</td>\n",
       "      <td>0</td>\n",
       "      <td>0.700000</td>\n",
       "      <td>1.000000</td>\n",
       "      <td>4</td>\n",
       "      <td>6</td>\n",
       "      <td>0</td>\n",
       "      <td>0</td>\n",
       "      <td>1</td>\n",
       "    </tr>\n",
       "    <tr>\n",
       "      <th>1</th>\n",
       "      <td>1</td>\n",
       "      <td>1</td>\n",
       "      <td>1</td>\n",
       "      <td>1</td>\n",
       "      <td>0.366667</td>\n",
       "      <td>0.380952</td>\n",
       "      <td>2</td>\n",
       "      <td>4</td>\n",
       "      <td>0</td>\n",
       "      <td>1</td>\n",
       "      <td>0</td>\n",
       "    </tr>\n",
       "    <tr>\n",
       "      <th>2</th>\n",
       "      <td>1</td>\n",
       "      <td>0</td>\n",
       "      <td>0</td>\n",
       "      <td>0</td>\n",
       "      <td>0.233333</td>\n",
       "      <td>1.000000</td>\n",
       "      <td>4</td>\n",
       "      <td>2</td>\n",
       "      <td>1</td>\n",
       "      <td>1</td>\n",
       "      <td>0</td>\n",
       "    </tr>\n",
       "    <tr>\n",
       "      <th>3</th>\n",
       "      <td>0</td>\n",
       "      <td>1</td>\n",
       "      <td>0</td>\n",
       "      <td>0</td>\n",
       "      <td>0.533333</td>\n",
       "      <td>1.000000</td>\n",
       "      <td>4</td>\n",
       "      <td>8</td>\n",
       "      <td>0</td>\n",
       "      <td>0</td>\n",
       "      <td>1</td>\n",
       "    </tr>\n",
       "    <tr>\n",
       "      <th>4</th>\n",
       "      <td>1</td>\n",
       "      <td>0</td>\n",
       "      <td>1</td>\n",
       "      <td>0</td>\n",
       "      <td>0.633333</td>\n",
       "      <td>0.000000</td>\n",
       "      <td>1</td>\n",
       "      <td>8</td>\n",
       "      <td>0</td>\n",
       "      <td>0</td>\n",
       "      <td>1</td>\n",
       "    </tr>\n",
       "    <tr>\n",
       "      <th>...</th>\n",
       "      <td>...</td>\n",
       "      <td>...</td>\n",
       "      <td>...</td>\n",
       "      <td>...</td>\n",
       "      <td>...</td>\n",
       "      <td>...</td>\n",
       "      <td>...</td>\n",
       "      <td>...</td>\n",
       "      <td>...</td>\n",
       "      <td>...</td>\n",
       "      <td>...</td>\n",
       "    </tr>\n",
       "    <tr>\n",
       "      <th>6699</th>\n",
       "      <td>1</td>\n",
       "      <td>1</td>\n",
       "      <td>1</td>\n",
       "      <td>0</td>\n",
       "      <td>0.566667</td>\n",
       "      <td>1.000000</td>\n",
       "      <td>4</td>\n",
       "      <td>7</td>\n",
       "      <td>0</td>\n",
       "      <td>1</td>\n",
       "      <td>0</td>\n",
       "    </tr>\n",
       "    <tr>\n",
       "      <th>6700</th>\n",
       "      <td>0</td>\n",
       "      <td>0</td>\n",
       "      <td>1</td>\n",
       "      <td>0</td>\n",
       "      <td>0.000000</td>\n",
       "      <td>0.000000</td>\n",
       "      <td>1</td>\n",
       "      <td>7</td>\n",
       "      <td>0</td>\n",
       "      <td>0</td>\n",
       "      <td>1</td>\n",
       "    </tr>\n",
       "    <tr>\n",
       "      <th>6701</th>\n",
       "      <td>0</td>\n",
       "      <td>1</td>\n",
       "      <td>1</td>\n",
       "      <td>0</td>\n",
       "      <td>0.766667</td>\n",
       "      <td>0.666667</td>\n",
       "      <td>3</td>\n",
       "      <td>4</td>\n",
       "      <td>0</td>\n",
       "      <td>1</td>\n",
       "      <td>0</td>\n",
       "    </tr>\n",
       "    <tr>\n",
       "      <th>6702</th>\n",
       "      <td>0</td>\n",
       "      <td>1</td>\n",
       "      <td>1</td>\n",
       "      <td>0</td>\n",
       "      <td>0.300000</td>\n",
       "      <td>0.380952</td>\n",
       "      <td>2</td>\n",
       "      <td>7</td>\n",
       "      <td>0</td>\n",
       "      <td>0</td>\n",
       "      <td>1</td>\n",
       "    </tr>\n",
       "    <tr>\n",
       "      <th>6703</th>\n",
       "      <td>1</td>\n",
       "      <td>1</td>\n",
       "      <td>0</td>\n",
       "      <td>0</td>\n",
       "      <td>0.000000</td>\n",
       "      <td>0.000000</td>\n",
       "      <td>1</td>\n",
       "      <td>6</td>\n",
       "      <td>1</td>\n",
       "      <td>1</td>\n",
       "      <td>0</td>\n",
       "    </tr>\n",
       "  </tbody>\n",
       "</table>\n",
       "<p>6704 rows × 11 columns</p>\n",
       "</div>"
      ],
      "text/plain": [
       "      gender  partner  dependents  senior    Tenure  monthly_cost  package  \\\n",
       "0          1        1           1       0  0.700000      1.000000        4   \n",
       "1          1        1           1       1  0.366667      0.380952        2   \n",
       "2          1        0           0       0  0.233333      1.000000        4   \n",
       "3          0        1           0       0  0.533333      1.000000        4   \n",
       "4          1        0           1       0  0.633333      0.000000        1   \n",
       "...      ...      ...         ...     ...       ...           ...      ...   \n",
       "6699       1        1           1       0  0.566667      1.000000        4   \n",
       "6700       0        0           1       0  0.000000      0.000000        1   \n",
       "6701       0        1           1       0  0.766667      0.666667        3   \n",
       "6702       0        1           1       0  0.300000      0.380952        2   \n",
       "6703       1        1           0       0  0.000000      0.000000        1   \n",
       "\n",
       "     survey  Class  location_Greater London  location_Non london area  \n",
       "0         6      0                        0                         1  \n",
       "1         4      0                        1                         0  \n",
       "2         2      1                        1                         0  \n",
       "3         8      0                        0                         1  \n",
       "4         8      0                        0                         1  \n",
       "...     ...    ...                      ...                       ...  \n",
       "6699      7      0                        1                         0  \n",
       "6700      7      0                        0                         1  \n",
       "6701      4      0                        1                         0  \n",
       "6702      7      0                        0                         1  \n",
       "6703      6      1                        1                         0  \n",
       "\n",
       "[6704 rows x 11 columns]"
      ]
     },
     "execution_count": 64,
     "metadata": {},
     "output_type": "execute_result"
    }
   ],
   "source": [
    "df = df.reset_index(drop=True)\n",
    "df"
   ]
  },
  {
   "cell_type": "code",
   "execution_count": 65,
   "id": "e936a293",
   "metadata": {},
   "outputs": [],
   "source": [
    "df['survey'] = df['survey'].replace(['No reply'],df['survey'].mode())"
   ]
  },
  {
   "cell_type": "code",
   "execution_count": 66,
   "id": "3dbaff96",
   "metadata": {},
   "outputs": [],
   "source": [
    "df['dependents']=df['dependents'].astype(int)\n",
    "df['survey']=df['survey'].astype(int)"
   ]
  },
  {
   "cell_type": "code",
   "execution_count": 67,
   "id": "02de4e0e",
   "metadata": {
    "scrolled": true
   },
   "outputs": [
    {
     "data": {
      "text/html": [
       "<div>\n",
       "<style scoped>\n",
       "    .dataframe tbody tr th:only-of-type {\n",
       "        vertical-align: middle;\n",
       "    }\n",
       "\n",
       "    .dataframe tbody tr th {\n",
       "        vertical-align: top;\n",
       "    }\n",
       "\n",
       "    .dataframe thead th {\n",
       "        text-align: right;\n",
       "    }\n",
       "</style>\n",
       "<table border=\"1\" class=\"dataframe\">\n",
       "  <thead>\n",
       "    <tr style=\"text-align: right;\">\n",
       "      <th></th>\n",
       "      <th>gender</th>\n",
       "      <th>partner</th>\n",
       "      <th>dependents</th>\n",
       "      <th>senior</th>\n",
       "      <th>Tenure</th>\n",
       "      <th>monthly_cost</th>\n",
       "      <th>package</th>\n",
       "      <th>survey</th>\n",
       "      <th>Class</th>\n",
       "      <th>location_Greater London</th>\n",
       "      <th>location_Non london area</th>\n",
       "    </tr>\n",
       "  </thead>\n",
       "  <tbody>\n",
       "    <tr>\n",
       "      <th>0</th>\n",
       "      <td>1</td>\n",
       "      <td>1</td>\n",
       "      <td>1</td>\n",
       "      <td>0</td>\n",
       "      <td>0.700000</td>\n",
       "      <td>1.000000</td>\n",
       "      <td>4</td>\n",
       "      <td>6</td>\n",
       "      <td>0</td>\n",
       "      <td>0</td>\n",
       "      <td>1</td>\n",
       "    </tr>\n",
       "    <tr>\n",
       "      <th>1</th>\n",
       "      <td>1</td>\n",
       "      <td>1</td>\n",
       "      <td>1</td>\n",
       "      <td>1</td>\n",
       "      <td>0.366667</td>\n",
       "      <td>0.380952</td>\n",
       "      <td>2</td>\n",
       "      <td>4</td>\n",
       "      <td>0</td>\n",
       "      <td>1</td>\n",
       "      <td>0</td>\n",
       "    </tr>\n",
       "    <tr>\n",
       "      <th>2</th>\n",
       "      <td>1</td>\n",
       "      <td>0</td>\n",
       "      <td>0</td>\n",
       "      <td>0</td>\n",
       "      <td>0.233333</td>\n",
       "      <td>1.000000</td>\n",
       "      <td>4</td>\n",
       "      <td>2</td>\n",
       "      <td>1</td>\n",
       "      <td>1</td>\n",
       "      <td>0</td>\n",
       "    </tr>\n",
       "    <tr>\n",
       "      <th>3</th>\n",
       "      <td>0</td>\n",
       "      <td>1</td>\n",
       "      <td>0</td>\n",
       "      <td>0</td>\n",
       "      <td>0.533333</td>\n",
       "      <td>1.000000</td>\n",
       "      <td>4</td>\n",
       "      <td>8</td>\n",
       "      <td>0</td>\n",
       "      <td>0</td>\n",
       "      <td>1</td>\n",
       "    </tr>\n",
       "    <tr>\n",
       "      <th>4</th>\n",
       "      <td>1</td>\n",
       "      <td>0</td>\n",
       "      <td>1</td>\n",
       "      <td>0</td>\n",
       "      <td>0.633333</td>\n",
       "      <td>0.000000</td>\n",
       "      <td>1</td>\n",
       "      <td>8</td>\n",
       "      <td>0</td>\n",
       "      <td>0</td>\n",
       "      <td>1</td>\n",
       "    </tr>\n",
       "    <tr>\n",
       "      <th>...</th>\n",
       "      <td>...</td>\n",
       "      <td>...</td>\n",
       "      <td>...</td>\n",
       "      <td>...</td>\n",
       "      <td>...</td>\n",
       "      <td>...</td>\n",
       "      <td>...</td>\n",
       "      <td>...</td>\n",
       "      <td>...</td>\n",
       "      <td>...</td>\n",
       "      <td>...</td>\n",
       "    </tr>\n",
       "    <tr>\n",
       "      <th>6699</th>\n",
       "      <td>1</td>\n",
       "      <td>1</td>\n",
       "      <td>1</td>\n",
       "      <td>0</td>\n",
       "      <td>0.566667</td>\n",
       "      <td>1.000000</td>\n",
       "      <td>4</td>\n",
       "      <td>7</td>\n",
       "      <td>0</td>\n",
       "      <td>1</td>\n",
       "      <td>0</td>\n",
       "    </tr>\n",
       "    <tr>\n",
       "      <th>6700</th>\n",
       "      <td>0</td>\n",
       "      <td>0</td>\n",
       "      <td>1</td>\n",
       "      <td>0</td>\n",
       "      <td>0.000000</td>\n",
       "      <td>0.000000</td>\n",
       "      <td>1</td>\n",
       "      <td>7</td>\n",
       "      <td>0</td>\n",
       "      <td>0</td>\n",
       "      <td>1</td>\n",
       "    </tr>\n",
       "    <tr>\n",
       "      <th>6701</th>\n",
       "      <td>0</td>\n",
       "      <td>1</td>\n",
       "      <td>1</td>\n",
       "      <td>0</td>\n",
       "      <td>0.766667</td>\n",
       "      <td>0.666667</td>\n",
       "      <td>3</td>\n",
       "      <td>4</td>\n",
       "      <td>0</td>\n",
       "      <td>1</td>\n",
       "      <td>0</td>\n",
       "    </tr>\n",
       "    <tr>\n",
       "      <th>6702</th>\n",
       "      <td>0</td>\n",
       "      <td>1</td>\n",
       "      <td>1</td>\n",
       "      <td>0</td>\n",
       "      <td>0.300000</td>\n",
       "      <td>0.380952</td>\n",
       "      <td>2</td>\n",
       "      <td>7</td>\n",
       "      <td>0</td>\n",
       "      <td>0</td>\n",
       "      <td>1</td>\n",
       "    </tr>\n",
       "    <tr>\n",
       "      <th>6703</th>\n",
       "      <td>1</td>\n",
       "      <td>1</td>\n",
       "      <td>0</td>\n",
       "      <td>0</td>\n",
       "      <td>0.000000</td>\n",
       "      <td>0.000000</td>\n",
       "      <td>1</td>\n",
       "      <td>6</td>\n",
       "      <td>1</td>\n",
       "      <td>1</td>\n",
       "      <td>0</td>\n",
       "    </tr>\n",
       "  </tbody>\n",
       "</table>\n",
       "<p>6704 rows × 11 columns</p>\n",
       "</div>"
      ],
      "text/plain": [
       "      gender  partner  dependents  senior    Tenure  monthly_cost  package  \\\n",
       "0          1        1           1       0  0.700000      1.000000        4   \n",
       "1          1        1           1       1  0.366667      0.380952        2   \n",
       "2          1        0           0       0  0.233333      1.000000        4   \n",
       "3          0        1           0       0  0.533333      1.000000        4   \n",
       "4          1        0           1       0  0.633333      0.000000        1   \n",
       "...      ...      ...         ...     ...       ...           ...      ...   \n",
       "6699       1        1           1       0  0.566667      1.000000        4   \n",
       "6700       0        0           1       0  0.000000      0.000000        1   \n",
       "6701       0        1           1       0  0.766667      0.666667        3   \n",
       "6702       0        1           1       0  0.300000      0.380952        2   \n",
       "6703       1        1           0       0  0.000000      0.000000        1   \n",
       "\n",
       "      survey  Class  location_Greater London  location_Non london area  \n",
       "0          6      0                        0                         1  \n",
       "1          4      0                        1                         0  \n",
       "2          2      1                        1                         0  \n",
       "3          8      0                        0                         1  \n",
       "4          8      0                        0                         1  \n",
       "...      ...    ...                      ...                       ...  \n",
       "6699       7      0                        1                         0  \n",
       "6700       7      0                        0                         1  \n",
       "6701       4      0                        1                         0  \n",
       "6702       7      0                        0                         1  \n",
       "6703       6      1                        1                         0  \n",
       "\n",
       "[6704 rows x 11 columns]"
      ]
     },
     "execution_count": 67,
     "metadata": {},
     "output_type": "execute_result"
    }
   ],
   "source": [
    "df"
   ]
  },
  {
   "cell_type": "code",
   "execution_count": 68,
   "id": "2a7488ea",
   "metadata": {},
   "outputs": [
    {
     "name": "stdout",
     "output_type": "stream",
     "text": [
      "                            OLS Regression Results                            \n",
      "==============================================================================\n",
      "Dep. Variable:                  Class   R-squared:                       0.625\n",
      "Model:                            OLS   Adj. R-squared:                  0.625\n",
      "Method:                 Least Squares   F-statistic:                     1241.\n",
      "Date:                Mon, 08 Aug 2022   Prob (F-statistic):               0.00\n",
      "Time:                        09:08:07   Log-Likelihood:                -907.01\n",
      "No. Observations:                6704   AIC:                             1834.\n",
      "Df Residuals:                    6694   BIC:                             1902.\n",
      "Df Model:                           9                                         \n",
      "Covariance Type:            nonrobust                                         \n",
      "============================================================================================\n",
      "                               coef    std err          t      P>|t|      [0.025      0.975]\n",
      "--------------------------------------------------------------------------------------------\n",
      "const                        0.7123      0.041     17.470      0.000       0.632       0.792\n",
      "gender                       0.0041      0.007      0.609      0.543      -0.009       0.017\n",
      "partner                     -0.0679      0.008     -8.244      0.000      -0.084      -0.052\n",
      "dependents                  -0.4766      0.009    -55.949      0.000      -0.493      -0.460\n",
      "senior                      -0.0825      0.011     -7.633      0.000      -0.104      -0.061\n",
      "Tenure                      -0.3715      0.017    -21.650      0.000      -0.405      -0.338\n",
      "monthly_cost                -0.1766      0.190     -0.931      0.352      -0.549       0.195\n",
      "package                      0.0412      0.063      0.657      0.512      -0.082       0.164\n",
      "survey                      -0.0620      0.002    -38.377      0.000      -0.065      -0.059\n",
      "location_Greater London      0.3867      0.021     18.653      0.000       0.346       0.427\n",
      "location_Non london area     0.3256      0.021     15.744      0.000       0.285       0.366\n",
      "==============================================================================\n",
      "Omnibus:                      355.252   Durbin-Watson:                   2.022\n",
      "Prob(Omnibus):                  0.000   Jarque-Bera (JB):              831.467\n",
      "Skew:                           0.328   Prob(JB):                    2.81e-181\n",
      "Kurtosis:                       4.596   Cond. No.                     4.15e+16\n",
      "==============================================================================\n",
      "\n",
      "Notes:\n",
      "[1] Standard Errors assume that the covariance matrix of the errors is correctly specified.\n",
      "[2] The smallest eigenvalue is 1.41e-28. This might indicate that there are\n",
      "strong multicollinearity problems or that the design matrix is singular.\n"
     ]
    }
   ],
   "source": [
    "import statsmodels.api as sm\n",
    "x = df.drop(['Class'],axis=1)\n",
    "y = df['Class']\n",
    " \n",
    "# Statsmodels.OLS requires us to add a constant.\n",
    "x = sm.add_constant(x)\n",
    "model = sm.OLS(y,x)\n",
    "results = model.fit()\n",
    "print(results.summary())"
   ]
  },
  {
   "cell_type": "code",
   "execution_count": 70,
   "id": "43d87c95",
   "metadata": {},
   "outputs": [],
   "source": [
    "df = df.drop(columns=['gender', 'package'])"
   ]
  },
  {
   "cell_type": "code",
   "execution_count": 73,
   "id": "0a0ed215",
   "metadata": {},
   "outputs": [
    {
     "data": {
      "text/html": [
       "<div>\n",
       "<style scoped>\n",
       "    .dataframe tbody tr th:only-of-type {\n",
       "        vertical-align: middle;\n",
       "    }\n",
       "\n",
       "    .dataframe tbody tr th {\n",
       "        vertical-align: top;\n",
       "    }\n",
       "\n",
       "    .dataframe thead th {\n",
       "        text-align: right;\n",
       "    }\n",
       "</style>\n",
       "<table border=\"1\" class=\"dataframe\">\n",
       "  <thead>\n",
       "    <tr style=\"text-align: right;\">\n",
       "      <th></th>\n",
       "      <th>partner</th>\n",
       "      <th>dependents</th>\n",
       "      <th>senior</th>\n",
       "      <th>Tenure</th>\n",
       "      <th>monthly_cost</th>\n",
       "      <th>survey</th>\n",
       "      <th>Class</th>\n",
       "      <th>location_Greater London</th>\n",
       "      <th>location_Non london area</th>\n",
       "    </tr>\n",
       "  </thead>\n",
       "  <tbody>\n",
       "    <tr>\n",
       "      <th>0</th>\n",
       "      <td>1</td>\n",
       "      <td>1</td>\n",
       "      <td>0</td>\n",
       "      <td>0.700000</td>\n",
       "      <td>1.000000</td>\n",
       "      <td>6</td>\n",
       "      <td>0</td>\n",
       "      <td>0</td>\n",
       "      <td>1</td>\n",
       "    </tr>\n",
       "    <tr>\n",
       "      <th>1</th>\n",
       "      <td>1</td>\n",
       "      <td>1</td>\n",
       "      <td>1</td>\n",
       "      <td>0.366667</td>\n",
       "      <td>0.380952</td>\n",
       "      <td>4</td>\n",
       "      <td>0</td>\n",
       "      <td>1</td>\n",
       "      <td>0</td>\n",
       "    </tr>\n",
       "    <tr>\n",
       "      <th>2</th>\n",
       "      <td>0</td>\n",
       "      <td>0</td>\n",
       "      <td>0</td>\n",
       "      <td>0.233333</td>\n",
       "      <td>1.000000</td>\n",
       "      <td>2</td>\n",
       "      <td>1</td>\n",
       "      <td>1</td>\n",
       "      <td>0</td>\n",
       "    </tr>\n",
       "    <tr>\n",
       "      <th>3</th>\n",
       "      <td>1</td>\n",
       "      <td>0</td>\n",
       "      <td>0</td>\n",
       "      <td>0.533333</td>\n",
       "      <td>1.000000</td>\n",
       "      <td>8</td>\n",
       "      <td>0</td>\n",
       "      <td>0</td>\n",
       "      <td>1</td>\n",
       "    </tr>\n",
       "    <tr>\n",
       "      <th>4</th>\n",
       "      <td>0</td>\n",
       "      <td>1</td>\n",
       "      <td>0</td>\n",
       "      <td>0.633333</td>\n",
       "      <td>0.000000</td>\n",
       "      <td>8</td>\n",
       "      <td>0</td>\n",
       "      <td>0</td>\n",
       "      <td>1</td>\n",
       "    </tr>\n",
       "    <tr>\n",
       "      <th>...</th>\n",
       "      <td>...</td>\n",
       "      <td>...</td>\n",
       "      <td>...</td>\n",
       "      <td>...</td>\n",
       "      <td>...</td>\n",
       "      <td>...</td>\n",
       "      <td>...</td>\n",
       "      <td>...</td>\n",
       "      <td>...</td>\n",
       "    </tr>\n",
       "    <tr>\n",
       "      <th>6699</th>\n",
       "      <td>1</td>\n",
       "      <td>1</td>\n",
       "      <td>0</td>\n",
       "      <td>0.566667</td>\n",
       "      <td>1.000000</td>\n",
       "      <td>7</td>\n",
       "      <td>0</td>\n",
       "      <td>1</td>\n",
       "      <td>0</td>\n",
       "    </tr>\n",
       "    <tr>\n",
       "      <th>6700</th>\n",
       "      <td>0</td>\n",
       "      <td>1</td>\n",
       "      <td>0</td>\n",
       "      <td>0.000000</td>\n",
       "      <td>0.000000</td>\n",
       "      <td>7</td>\n",
       "      <td>0</td>\n",
       "      <td>0</td>\n",
       "      <td>1</td>\n",
       "    </tr>\n",
       "    <tr>\n",
       "      <th>6701</th>\n",
       "      <td>1</td>\n",
       "      <td>1</td>\n",
       "      <td>0</td>\n",
       "      <td>0.766667</td>\n",
       "      <td>0.666667</td>\n",
       "      <td>4</td>\n",
       "      <td>0</td>\n",
       "      <td>1</td>\n",
       "      <td>0</td>\n",
       "    </tr>\n",
       "    <tr>\n",
       "      <th>6702</th>\n",
       "      <td>1</td>\n",
       "      <td>1</td>\n",
       "      <td>0</td>\n",
       "      <td>0.300000</td>\n",
       "      <td>0.380952</td>\n",
       "      <td>7</td>\n",
       "      <td>0</td>\n",
       "      <td>0</td>\n",
       "      <td>1</td>\n",
       "    </tr>\n",
       "    <tr>\n",
       "      <th>6703</th>\n",
       "      <td>1</td>\n",
       "      <td>0</td>\n",
       "      <td>0</td>\n",
       "      <td>0.000000</td>\n",
       "      <td>0.000000</td>\n",
       "      <td>6</td>\n",
       "      <td>1</td>\n",
       "      <td>1</td>\n",
       "      <td>0</td>\n",
       "    </tr>\n",
       "  </tbody>\n",
       "</table>\n",
       "<p>6704 rows × 9 columns</p>\n",
       "</div>"
      ],
      "text/plain": [
       "      partner  dependents  senior    Tenure  monthly_cost  survey  Class  \\\n",
       "0           1           1       0  0.700000      1.000000       6      0   \n",
       "1           1           1       1  0.366667      0.380952       4      0   \n",
       "2           0           0       0  0.233333      1.000000       2      1   \n",
       "3           1           0       0  0.533333      1.000000       8      0   \n",
       "4           0           1       0  0.633333      0.000000       8      0   \n",
       "...       ...         ...     ...       ...           ...     ...    ...   \n",
       "6699        1           1       0  0.566667      1.000000       7      0   \n",
       "6700        0           1       0  0.000000      0.000000       7      0   \n",
       "6701        1           1       0  0.766667      0.666667       4      0   \n",
       "6702        1           1       0  0.300000      0.380952       7      0   \n",
       "6703        1           0       0  0.000000      0.000000       6      1   \n",
       "\n",
       "      location_Greater London  location_Non london area  \n",
       "0                           0                         1  \n",
       "1                           1                         0  \n",
       "2                           1                         0  \n",
       "3                           0                         1  \n",
       "4                           0                         1  \n",
       "...                       ...                       ...  \n",
       "6699                        1                         0  \n",
       "6700                        0                         1  \n",
       "6701                        1                         0  \n",
       "6702                        0                         1  \n",
       "6703                        1                         0  \n",
       "\n",
       "[6704 rows x 9 columns]"
      ]
     },
     "execution_count": 73,
     "metadata": {},
     "output_type": "execute_result"
    }
   ],
   "source": [
    "df"
   ]
  },
  {
   "cell_type": "code",
   "execution_count": 74,
   "id": "146ccde8",
   "metadata": {},
   "outputs": [
    {
     "data": {
      "text/plain": [
       "partner                       int64\n",
       "dependents                    int32\n",
       "senior                        int64\n",
       "Tenure                      float64\n",
       "monthly_cost                float64\n",
       "survey                        int32\n",
       "Class                         int32\n",
       "location_Greater London       int32\n",
       "location_Non london area      int32\n",
       "dtype: object"
      ]
     },
     "execution_count": 74,
     "metadata": {},
     "output_type": "execute_result"
    }
   ],
   "source": [
    "df.dtypes"
   ]
  },
  {
   "cell_type": "code",
   "execution_count": 75,
   "id": "34866ddf",
   "metadata": {},
   "outputs": [],
   "source": [
    "# df['survey'] = MinMaxScaler().fit_transform(np.array(df['survey']).reshape(-1,1))\n",
    "# #df['monthly_cost'] = MinMaxScaler().fit_transform(np.array(df['monthly_cost']).reshape(-1,1))  \n",
    "# # view normalized data  \n",
    "# display(df)"
   ]
  },
  {
   "cell_type": "code",
   "execution_count": 76,
   "id": "0575df9f",
   "metadata": {},
   "outputs": [
    {
     "data": {
      "text/plain": [
       "partner                       int64\n",
       "dependents                    int32\n",
       "senior                        int64\n",
       "Tenure                      float64\n",
       "monthly_cost                float64\n",
       "survey                        int32\n",
       "Class                         int32\n",
       "location_Greater London       int32\n",
       "location_Non london area      int32\n",
       "dtype: object"
      ]
     },
     "execution_count": 76,
     "metadata": {},
     "output_type": "execute_result"
    }
   ],
   "source": [
    "df.dtypes"
   ]
  },
  {
   "cell_type": "code",
   "execution_count": 77,
   "id": "1f63885e",
   "metadata": {},
   "outputs": [
    {
     "name": "stdout",
     "output_type": "stream",
     "text": [
      "0    4778\n",
      "1    1926\n",
      "Name: Class, dtype: int64\n"
     ]
    }
   ],
   "source": [
    "print(df['Class'].value_counts())"
   ]
  },
  {
   "cell_type": "code",
   "execution_count": 78,
   "id": "87cb97af",
   "metadata": {},
   "outputs": [
    {
     "name": "stdout",
     "output_type": "stream",
     "text": [
      "0    4778\n",
      "1    4778\n",
      "Name: Class, dtype: int64\n"
     ]
    }
   ],
   "source": [
    "from sklearn.utils import resample\n",
    "df_major=df[df.Class==0]\n",
    "df_minor=df[df.Class==1]\n",
    "\n",
    "df_minority_upsampled = resample(df_minor, replace=True,n_samples=4778,random_state=30) \n",
    "\n",
    "df_upsamp_ML=pd.concat([df_major, df_minority_upsampled])\n",
    "print(df_upsamp_ML['Class'].value_counts())"
   ]
  },
  {
   "cell_type": "code",
   "execution_count": 79,
   "id": "df813c4b",
   "metadata": {},
   "outputs": [
    {
     "data": {
      "text/html": [
       "<div>\n",
       "<style scoped>\n",
       "    .dataframe tbody tr th:only-of-type {\n",
       "        vertical-align: middle;\n",
       "    }\n",
       "\n",
       "    .dataframe tbody tr th {\n",
       "        vertical-align: top;\n",
       "    }\n",
       "\n",
       "    .dataframe thead th {\n",
       "        text-align: right;\n",
       "    }\n",
       "</style>\n",
       "<table border=\"1\" class=\"dataframe\">\n",
       "  <thead>\n",
       "    <tr style=\"text-align: right;\">\n",
       "      <th></th>\n",
       "      <th>partner</th>\n",
       "      <th>dependents</th>\n",
       "      <th>senior</th>\n",
       "      <th>Tenure</th>\n",
       "      <th>monthly_cost</th>\n",
       "      <th>survey</th>\n",
       "      <th>Class</th>\n",
       "      <th>location_Greater London</th>\n",
       "      <th>location_Non london area</th>\n",
       "    </tr>\n",
       "  </thead>\n",
       "  <tbody>\n",
       "    <tr>\n",
       "      <th>0</th>\n",
       "      <td>1</td>\n",
       "      <td>1</td>\n",
       "      <td>0</td>\n",
       "      <td>0.700000</td>\n",
       "      <td>1.000000</td>\n",
       "      <td>6</td>\n",
       "      <td>0</td>\n",
       "      <td>0</td>\n",
       "      <td>1</td>\n",
       "    </tr>\n",
       "    <tr>\n",
       "      <th>1</th>\n",
       "      <td>1</td>\n",
       "      <td>1</td>\n",
       "      <td>1</td>\n",
       "      <td>0.366667</td>\n",
       "      <td>0.380952</td>\n",
       "      <td>4</td>\n",
       "      <td>0</td>\n",
       "      <td>1</td>\n",
       "      <td>0</td>\n",
       "    </tr>\n",
       "    <tr>\n",
       "      <th>3</th>\n",
       "      <td>1</td>\n",
       "      <td>0</td>\n",
       "      <td>0</td>\n",
       "      <td>0.533333</td>\n",
       "      <td>1.000000</td>\n",
       "      <td>8</td>\n",
       "      <td>0</td>\n",
       "      <td>0</td>\n",
       "      <td>1</td>\n",
       "    </tr>\n",
       "    <tr>\n",
       "      <th>4</th>\n",
       "      <td>0</td>\n",
       "      <td>1</td>\n",
       "      <td>0</td>\n",
       "      <td>0.633333</td>\n",
       "      <td>0.000000</td>\n",
       "      <td>8</td>\n",
       "      <td>0</td>\n",
       "      <td>0</td>\n",
       "      <td>1</td>\n",
       "    </tr>\n",
       "    <tr>\n",
       "      <th>7</th>\n",
       "      <td>1</td>\n",
       "      <td>1</td>\n",
       "      <td>0</td>\n",
       "      <td>0.133333</td>\n",
       "      <td>1.000000</td>\n",
       "      <td>4</td>\n",
       "      <td>0</td>\n",
       "      <td>0</td>\n",
       "      <td>1</td>\n",
       "    </tr>\n",
       "    <tr>\n",
       "      <th>...</th>\n",
       "      <td>...</td>\n",
       "      <td>...</td>\n",
       "      <td>...</td>\n",
       "      <td>...</td>\n",
       "      <td>...</td>\n",
       "      <td>...</td>\n",
       "      <td>...</td>\n",
       "      <td>...</td>\n",
       "      <td>...</td>\n",
       "    </tr>\n",
       "    <tr>\n",
       "      <th>2855</th>\n",
       "      <td>0</td>\n",
       "      <td>0</td>\n",
       "      <td>0</td>\n",
       "      <td>0.200000</td>\n",
       "      <td>0.000000</td>\n",
       "      <td>2</td>\n",
       "      <td>1</td>\n",
       "      <td>1</td>\n",
       "      <td>0</td>\n",
       "    </tr>\n",
       "    <tr>\n",
       "      <th>3987</th>\n",
       "      <td>0</td>\n",
       "      <td>0</td>\n",
       "      <td>0</td>\n",
       "      <td>0.033333</td>\n",
       "      <td>0.380952</td>\n",
       "      <td>2</td>\n",
       "      <td>1</td>\n",
       "      <td>1</td>\n",
       "      <td>0</td>\n",
       "    </tr>\n",
       "    <tr>\n",
       "      <th>1195</th>\n",
       "      <td>0</td>\n",
       "      <td>0</td>\n",
       "      <td>0</td>\n",
       "      <td>0.066667</td>\n",
       "      <td>1.000000</td>\n",
       "      <td>1</td>\n",
       "      <td>1</td>\n",
       "      <td>1</td>\n",
       "      <td>0</td>\n",
       "    </tr>\n",
       "    <tr>\n",
       "      <th>5941</th>\n",
       "      <td>0</td>\n",
       "      <td>0</td>\n",
       "      <td>0</td>\n",
       "      <td>0.066667</td>\n",
       "      <td>1.000000</td>\n",
       "      <td>5</td>\n",
       "      <td>1</td>\n",
       "      <td>1</td>\n",
       "      <td>0</td>\n",
       "    </tr>\n",
       "    <tr>\n",
       "      <th>3054</th>\n",
       "      <td>1</td>\n",
       "      <td>0</td>\n",
       "      <td>1</td>\n",
       "      <td>0.466667</td>\n",
       "      <td>0.380952</td>\n",
       "      <td>0</td>\n",
       "      <td>1</td>\n",
       "      <td>0</td>\n",
       "      <td>1</td>\n",
       "    </tr>\n",
       "  </tbody>\n",
       "</table>\n",
       "<p>9556 rows × 9 columns</p>\n",
       "</div>"
      ],
      "text/plain": [
       "      partner  dependents  senior    Tenure  monthly_cost  survey  Class  \\\n",
       "0           1           1       0  0.700000      1.000000       6      0   \n",
       "1           1           1       1  0.366667      0.380952       4      0   \n",
       "3           1           0       0  0.533333      1.000000       8      0   \n",
       "4           0           1       0  0.633333      0.000000       8      0   \n",
       "7           1           1       0  0.133333      1.000000       4      0   \n",
       "...       ...         ...     ...       ...           ...     ...    ...   \n",
       "2855        0           0       0  0.200000      0.000000       2      1   \n",
       "3987        0           0       0  0.033333      0.380952       2      1   \n",
       "1195        0           0       0  0.066667      1.000000       1      1   \n",
       "5941        0           0       0  0.066667      1.000000       5      1   \n",
       "3054        1           0       1  0.466667      0.380952       0      1   \n",
       "\n",
       "      location_Greater London  location_Non london area  \n",
       "0                           0                         1  \n",
       "1                           1                         0  \n",
       "3                           0                         1  \n",
       "4                           0                         1  \n",
       "7                           0                         1  \n",
       "...                       ...                       ...  \n",
       "2855                        1                         0  \n",
       "3987                        1                         0  \n",
       "1195                        1                         0  \n",
       "5941                        1                         0  \n",
       "3054                        0                         1  \n",
       "\n",
       "[9556 rows x 9 columns]"
      ]
     },
     "execution_count": 79,
     "metadata": {},
     "output_type": "execute_result"
    }
   ],
   "source": [
    "df_upsamp_ML"
   ]
  },
  {
   "cell_type": "code",
   "execution_count": 80,
   "id": "db036655",
   "metadata": {},
   "outputs": [],
   "source": [
    "# x=df_upsamp_ML.drop(['Class','location_Greater London','location_Non london area'],axis=1)\n",
    "x=df_upsamp_ML.drop(['Class'],axis=1)\n",
    "y=df_upsamp_ML['Class']\n",
    "x_train, x_test, y_train, y_test = train_test_split(x,y, test_size= 0.20,random_state=30)"
   ]
  },
  {
   "cell_type": "code",
   "execution_count": 81,
   "id": "7c35646b",
   "metadata": {},
   "outputs": [
    {
     "data": {
      "text/plain": [
       "partner                       int64\n",
       "dependents                    int32\n",
       "senior                        int64\n",
       "Tenure                      float64\n",
       "monthly_cost                float64\n",
       "survey                        int32\n",
       "location_Greater London       int32\n",
       "location_Non london area      int32\n",
       "dtype: object"
      ]
     },
     "execution_count": 81,
     "metadata": {},
     "output_type": "execute_result"
    }
   ],
   "source": [
    "x.dtypes"
   ]
  },
  {
   "cell_type": "code",
   "execution_count": 82,
   "id": "e98a2933",
   "metadata": {},
   "outputs": [
    {
     "data": {
      "text/plain": [
       "LogisticRegression()"
      ]
     },
     "execution_count": 82,
     "metadata": {},
     "output_type": "execute_result"
    }
   ],
   "source": [
    "modelLogistic = LogisticRegression()\n",
    "modelLogistic.fit(x_train,y_train)"
   ]
  },
  {
   "cell_type": "code",
   "execution_count": 83,
   "id": "5f18dffc",
   "metadata": {},
   "outputs": [
    {
     "data": {
      "text/plain": [
       "array([[-0.84071217, -3.4135005 , -0.31291039, -4.269768  , -0.69463555,\n",
       "        -0.63884516,  0.38282083, -0.38360583]])"
      ]
     },
     "execution_count": 83,
     "metadata": {},
     "output_type": "execute_result"
    }
   ],
   "source": [
    "modelLogistic.coef_"
   ]
  },
  {
   "cell_type": "code",
   "execution_count": 84,
   "id": "af2cb097",
   "metadata": {},
   "outputs": [
    {
     "data": {
      "text/plain": [
       "array([1, 0, 1, ..., 0, 0, 0])"
      ]
     },
     "execution_count": 84,
     "metadata": {},
     "output_type": "execute_result"
    }
   ],
   "source": [
    "y_pred= modelLogistic.predict(x_test)\n",
    "y_pred"
   ]
  },
  {
   "cell_type": "code",
   "execution_count": 85,
   "id": "087fbc4a",
   "metadata": {
    "scrolled": true
   },
   "outputs": [
    {
     "name": "stdout",
     "output_type": "stream",
     "text": [
      "Accuracy: 89.33%\n",
      "Precision: 89.86%\n",
      "Recall: 89.68%\n",
      "F1_Score: 89.77%\n"
     ]
    },
    {
     "data": {
      "text/plain": [
       "[Text(0, 0.5, '0'), Text(0, 1.5, '1')]"
      ]
     },
     "execution_count": 85,
     "metadata": {},
     "output_type": "execute_result"
    },
    {
     "data": {
      "image/png": "[encoded data removed]",
      "text/plain": [
       "<Figure size 360x216 with 2 Axes>"
      ]
     },
     "metadata": {
      "needs_background": "light"
     },
     "output_type": "display_data"
    }
   ],
   "source": [
    "from sklearn.metrics import confusion_matrix, accuracy_score, precision_score, recall_score, f1_score\n",
    "print('Accuracy: %.2f%%' % (accuracy_score(y_test, y_pred) * 100 ))\n",
    "print('Precision: %.2f%%' % (precision_score(y_test, y_pred) * 100))\n",
    "print('Recall: %.2f%%' % (recall_score(y_test, y_pred) * 100))\n",
    "print('F1_Score: %.2f%%' % (f1_score(y_test, y_pred) * 100))\n",
    "confusionmatrix = confusion_matrix(y_test, y_pred)\n",
    "plt.figure(figsize=(5,3))\n",
    "ax = plt.subplot()\n",
    "sns.heatmap(confusionmatrix, annot=True, fmt='g', ax = ax)\n",
    "ax.set_xlabel('Predicted Label')\n",
    "ax.set_ylabel('Actual Label')\n",
    "ax.set_title('Confusion Matrix - logistic Regression')\n",
    "ax.xaxis.set_ticklabels(['0','1'])\n",
    "ax.yaxis.set_ticklabels(['0','1'])"
   ]
  },
  {
   "cell_type": "code",
   "execution_count": 86,
   "id": "3210628f",
   "metadata": {},
   "outputs": [],
   "source": [
    "# import statsmodels.api as sm\n",
    "# x_train = sm.add_constant(x_train)\n",
    "# logit_model=sm.Logit(y_train,x_train)\n",
    "# result=logit_model.fit()\n",
    "# print(result.summary())"
   ]
  },
  {
   "cell_type": "code",
   "execution_count": 87,
   "id": "d749db46",
   "metadata": {},
   "outputs": [
    {
     "data": {
      "text/plain": [
       "array([1, 0, 1, ..., 0, 0, 0])"
      ]
     },
     "execution_count": 87,
     "metadata": {},
     "output_type": "execute_result"
    }
   ],
   "source": [
    "modelKNN = KNeighborsClassifier(n_neighbors = 20, metric = 'minkowski', p = 2)\n",
    "modelKNN.fit(x_train,y_train)\n",
    "pred_yknn=modelKNN.predict(x_test)\n",
    "pred_yknn"
   ]
  },
  {
   "cell_type": "code",
   "execution_count": 107,
   "id": "b3e8d4af",
   "metadata": {},
   "outputs": [
    {
     "name": "stdout",
     "output_type": "stream",
     "text": [
      "Accuracy: 91.47%\n",
      "Precision: 93.53%\n",
      "Recall: 89.88%\n",
      "F1_Score: 91.67%\n"
     ]
    },
    {
     "data": {
      "text/plain": [
       "[Text(0, 0.5, '0'), Text(0, 1.5, '1')]"
      ]
     },
     "execution_count": 107,
     "metadata": {},
     "output_type": "execute_result"
    },
    {
     "data": {
      "image/png": "[encoded data removed]",
      "text/plain": [
       "<Figure size 360x216 with 2 Axes>"
      ]
     },
     "metadata": {
      "needs_background": "light"
     },
     "output_type": "display_data"
    }
   ],
   "source": [
    "print('Accuracy: %.2f%%' % (accuracy_score(y_test, pred_yknn) * 100 ))\n",
    "print('Precision: %.2f%%' % (precision_score(y_test, pred_yknn) * 100))\n",
    "print('Recall: %.2f%%' % (recall_score(y_test, pred_yknn) * 100))\n",
    "print('F1_Score: %.2f%%' % (f1_score(y_test, pred_yknn) * 100))\n",
    "confusionmatrix = confusion_matrix(y_test, pred_yknn)\n",
    "plt.figure(figsize=(5,3))\n",
    "ax = plt.subplot()\n",
    "sns.heatmap(confusionmatrix, annot=True, fmt='g', ax = ax)\n",
    "ax.set_xlabel('Predicted Label')\n",
    "ax.set_ylabel('Actual Label')\n",
    "ax.set_title('Confusion Matrix - KNN')\n",
    "ax.xaxis.set_ticklabels(['0','1'])\n",
    "ax.yaxis.set_ticklabels(['0','1'])"
   ]
  },
  {
   "cell_type": "code",
   "execution_count": 89,
   "id": "98f96aa3",
   "metadata": {},
   "outputs": [],
   "source": [
    "from sklearn.ensemble import RandomForestClassifier\n",
    "modelrf = RandomForestClassifier()\n",
    "modelrf.fit(x_train, y_train)\n",
    "pred_Yrf = modelrf.predict(x_test)"
   ]
  },
  {
   "cell_type": "code",
   "execution_count": 108,
   "id": "5ed8d433",
   "metadata": {},
   "outputs": [
    {
     "data": {
      "text/plain": [
       "array([0.0593127 , 0.31572086, 0.0416468 , 0.22858003, 0.04276845,\n",
       "       0.29541171, 0.00765033, 0.00890911])"
      ]
     },
     "execution_count": 108,
     "metadata": {},
     "output_type": "execute_result"
    }
   ],
   "source": [
    "modelrf.feature_importances_"
   ]
  },
  {
   "cell_type": "code",
   "execution_count": 113,
   "id": "8186d1cf",
   "metadata": {},
   "outputs": [
    {
     "data": {
      "text/plain": [
       "Text(0, 0.5, 'Importance')"
      ]
     },
     "execution_count": 113,
     "metadata": {},
     "output_type": "execute_result"
    },
    {
     "data": {
      "image/png": "[encoded data removed]",
      "text/plain": [
       "<Figure size 864x288 with 1 Axes>"
      ]
     },
     "metadata": {
      "needs_background": "light"
     },
     "output_type": "display_data"
    }
   ],
   "source": [
    "plt.figure(figsize=(12,4))\n",
    "plt.bar(x.columns, modelrf.feature_importances_)\n",
    "plt.xlabel(\"Feature\")\n",
    "plt.ylabel(\"Importance\")"
   ]
  },
  {
   "cell_type": "code",
   "execution_count": 100,
   "id": "8cecf8b6",
   "metadata": {},
   "outputs": [
    {
     "name": "stdout",
     "output_type": "stream",
     "text": [
      "Accuracy: 94.61%\n",
      "Precision: 93.92%\n",
      "Recall: 95.89%\n",
      "F1_Score: 94.89%\n"
     ]
    },
    {
     "data": {
      "text/plain": [
       "[Text(0, 0.5, '0'), Text(0, 1.5, '1')]"
      ]
     },
     "execution_count": 100,
     "metadata": {},
     "output_type": "execute_result"
    },
    {
     "data": {
      "image/png": "[encoded data removed]",
      "text/plain": [
       "<Figure size 360x216 with 2 Axes>"
      ]
     },
     "metadata": {
      "needs_background": "light"
     },
     "output_type": "display_data"
    }
   ],
   "source": [
    "print('Accuracy: %.2f%%' % (accuracy_score(y_test, pred_Yrf) * 100 ))\n",
    "print('Precision: %.2f%%' % (precision_score(y_test, pred_Yrf) * 100))\n",
    "print('Recall: %.2f%%' % (recall_score(y_test, pred_Yrf) * 100))\n",
    "print('F1_Score: %.2f%%' % (f1_score(y_test, pred_Yrf) * 100))\n",
    "confusionmatrix = confusion_matrix(y_test, pred_Yrf)\n",
    "plt.figure(figsize=(5,3))\n",
    "ax = plt.subplot()\n",
    "sns.heatmap(confusionmatrix, annot=True, fmt='g', ax = ax)\n",
    "ax.set_xlabel('Predicted Label')\n",
    "ax.set_ylabel('Actual Label')\n",
    "ax.set_title('Confusion Matrix - Random Forest')\n",
    "ax.xaxis.set_ticklabels(['0','1'])\n",
    "ax.yaxis.set_ticklabels(['0','1'])"
   ]
  },
  {
   "cell_type": "code",
   "execution_count": 91,
   "id": "a85f9dc4",
   "metadata": {},
   "outputs": [],
   "source": [
    "from sklearn.naive_bayes import GaussianNB\n",
    "modelNB = GaussianNB()\n",
    "modelNB.fit(x_train, y_train)\n",
    "pred_YNB = modelNB.predict(x_test)"
   ]
  },
  {
   "cell_type": "code",
   "execution_count": 104,
   "id": "f8dd564e",
   "metadata": {
    "scrolled": true
   },
   "outputs": [
    {
     "name": "stdout",
     "output_type": "stream",
     "text": [
      "Accuracy: 89.07%\n",
      "Precision: 89.33%\n",
      "Recall: 89.78%\n",
      "F1_Score: 89.56%\n"
     ]
    },
    {
     "data": {
      "text/plain": [
       "[Text(0, 0.5, '0'), Text(0, 1.5, '1')]"
      ]
     },
     "execution_count": 104,
     "metadata": {},
     "output_type": "execute_result"
    },
    {
     "data": {
      "image/png": "[encoded data removed]",
      "text/plain": [
       "<Figure size 360x216 with 2 Axes>"
      ]
     },
     "metadata": {
      "needs_background": "light"
     },
     "output_type": "display_data"
    }
   ],
   "source": [
    "print('Accuracy: %.2f%%' % (accuracy_score(y_test, pred_YNB) * 100 ))\n",
    "print('Precision: %.2f%%' % (precision_score(y_test, pred_YNB) * 100))\n",
    "print('Recall: %.2f%%' % (recall_score(y_test, pred_YNB) * 100))\n",
    "print('F1_Score: %.2f%%' % (f1_score(y_test, pred_YNB) * 100))\n",
    "confusionmatrix = confusion_matrix(y_test, pred_YNB)\n",
    "plt.figure(figsize=(5,3))\n",
    "ax = plt.subplot()\n",
    "sns.heatmap(confusionmatrix, annot=True, fmt='g', ax = ax)\n",
    "ax.set_xlabel('Predicted Label')\n",
    "ax.set_ylabel('Actual Label')\n",
    "ax.set_title('Confusion Matrix - Naive Bayes')\n",
    "ax.xaxis.set_ticklabels(['0','1'])\n",
    "ax.yaxis.set_ticklabels(['0','1'])"
   ]
  },
  {
   "cell_type": "code",
   "execution_count": 93,
   "id": "85b29296",
   "metadata": {},
   "outputs": [],
   "source": [
    "from sklearn.svm import SVC\n",
    "modelSVC = SVC()\n",
    "modelSVC.fit(x_train, y_train)\n",
    "pred_YSVC = modelSVC.predict(x_test)"
   ]
  },
  {
   "cell_type": "code",
   "execution_count": 105,
   "id": "d329ff0a",
   "metadata": {},
   "outputs": [
    {
     "name": "stdout",
     "output_type": "stream",
     "text": [
      "Accuracy: 90.22%\n",
      "Precision: 91.17%\n",
      "Recall: 89.98%\n",
      "F1_Score: 90.57%\n"
     ]
    },
    {
     "data": {
      "text/plain": [
       "[Text(0, 0.5, '0'), Text(0, 1.5, '1')]"
      ]
     },
     "execution_count": 105,
     "metadata": {},
     "output_type": "execute_result"
    },
    {
     "data": {
      "image/png": "[encoded data removed]",
      "text/plain": [
       "<Figure size 360x216 with 2 Axes>"
      ]
     },
     "metadata": {
      "needs_background": "light"
     },
     "output_type": "display_data"
    }
   ],
   "source": [
    "print('Accuracy: %.2f%%' % (accuracy_score(y_test, pred_YSVC) * 100 ))\n",
    "print('Precision: %.2f%%' % (precision_score(y_test, pred_YSVC) * 100))\n",
    "print('Recall: %.2f%%' % (recall_score(y_test, pred_YSVC) * 100))\n",
    "print('F1_Score: %.2f%%' % (f1_score(y_test, pred_YSVC) * 100))\n",
    "confusionmatrix = confusion_matrix(y_test, pred_YSVC)\n",
    "plt.figure(figsize=(5,3))\n",
    "ax = plt.subplot()\n",
    "sns.heatmap(confusionmatrix, annot=True, fmt='g', ax = ax)\n",
    "ax.set_xlabel('Predicted Label')\n",
    "ax.set_ylabel('Actual Label')\n",
    "ax.set_title('Confusion Matrix - Support Vector Machines')\n",
    "ax.xaxis.set_ticklabels(['0','1'])\n",
    "ax.yaxis.set_ticklabels(['0','1'])"
   ]
  },
  {
   "cell_type": "code",
   "execution_count": 95,
   "id": "1e5ba9a4",
   "metadata": {},
   "outputs": [],
   "source": [
    "from sklearn.ensemble import GradientBoostingClassifier\n",
    "modelGB =GradientBoostingClassifier()\n",
    "modelGB.fit(x_train, y_train)\n",
    "pred_GB = modelGB.predict(x_test)"
   ]
  },
  {
   "cell_type": "code",
   "execution_count": 106,
   "id": "5584f74e",
   "metadata": {},
   "outputs": [
    {
     "name": "stdout",
     "output_type": "stream",
     "text": [
      "Accuracy: 92.89%\n",
      "Precision: 93.45%\n",
      "Recall: 92.89%\n",
      "F1_Score: 93.17%\n"
     ]
    },
    {
     "data": {
      "text/plain": [
       "[Text(0, 0.5, '0'), Text(0, 1.5, '1')]"
      ]
     },
     "execution_count": 106,
     "metadata": {},
     "output_type": "execute_result"
    },
    {
     "data": {
      "image/png": "[encoded data removed]",
      "text/plain": [
       "<Figure size 360x216 with 2 Axes>"
      ]
     },
     "metadata": {
      "needs_background": "light"
     },
     "output_type": "display_data"
    }
   ],
   "source": [
    "print('Accuracy: %.2f%%' % (accuracy_score(y_test, pred_GB) * 100 ))\n",
    "print('Precision: %.2f%%' % (precision_score(y_test, pred_GB) * 100))\n",
    "print('Recall: %.2f%%' % (recall_score(y_test, pred_GB) * 100))\n",
    "print('F1_Score: %.2f%%' % (f1_score(y_test, pred_GB) * 100))\n",
    "confusionmatrix = confusion_matrix(y_test, pred_GB)\n",
    "plt.figure(figsize=(5,3))\n",
    "ax = plt.subplot()\n",
    "sns.heatmap(confusionmatrix, annot=True, fmt='g', ax = ax)\n",
    "ax.set_xlabel('Predicted Label')\n",
    "ax.set_ylabel('Actual Label')\n",
    "ax.set_title('Confusion Matrix - Gradient Descent Boosting')\n",
    "ax.xaxis.set_ticklabels(['0','1'])\n",
    "ax.yaxis.set_ticklabels(['0','1'])"
   ]
  },
  {
   "cell_type": "code",
   "execution_count": null,
   "id": "0f41b31e",
   "metadata": {},
   "outputs": [],
   "source": []
  },
  {
   "cell_type": "code",
   "execution_count": null,
   "id": "4b95c85b",
   "metadata": {},
   "outputs": [],
   "source": []
  }
 ],
 "metadata": {
  "kernelspec": {
   "display_name": "Python 3 (ipykernel)",
   "language": "python",
   "name": "python3"
  },
  "language_info": {
   "codemirror_mode": {
    "name": "ipython",
    "version": 3
   },
   "file_extension": ".py",
   "mimetype": "text/x-python",
   "name": "python",
   "nbconvert_exporter": "python",
   "pygments_lexer": "ipython3",
   "version": "3.9.7"
  }
 },
 "nbformat": 4,
 "nbformat_minor": 5
}
